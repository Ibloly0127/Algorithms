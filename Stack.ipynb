{
 "cells": [
  {
   "cell_type": "markdown",
   "metadata": {},
   "source": [
    "## Stack Abstract Data Type\n",
    "\n",
    "The stack abstract data type is defined by the following structure and operations. A stack is structured, as described above, as an **ordered** collection of items where items are added to and removed from the end called the “top.” Stacks are ordered **LIFO**. "
   ]
  },
  {
   "cell_type": "markdown",
   "metadata": {},
   "source": [
    "* **Stack()** creates a new stack that is empty. It needs no parameters and returns an empty stack.\n",
    "* **isEmpty()** tests to see whether the stack is empty. It needs no parameters and returns a boolean value.\n",
    "* **size()** returns the number of items on the stack. It needs no parameters and returns an integer.\n",
    "\n",
    "* **push(item)** adds a new item to the top of the stack. It needs the item and returns nothing.\n",
    "* **pop()** removes the top item from the stack. It needs no parameters and returns the item. The stack is modified.\n",
    "* **peek()** returns the top item from the stack but does not remove it. It needs no parameters. The stack is not modified."
   ]
  },
  {
   "cell_type": "code",
   "execution_count": 1,
   "metadata": {},
   "outputs": [],
   "source": [
    "class Stack:\n",
    "    \n",
    "    # variables \n",
    "    # __size__ = 0 # another way to implement size()\n",
    "    items = None\n",
    "    \n",
    "    # functions\n",
    "    def __init__(self):\n",
    "        self.items = []\n",
    "    \n",
    "    def isEmpty(self):\n",
    "        return self.items == []\n",
    "    \n",
    "    def size(self):\n",
    "        return len(self.items)\n",
    "        \n",
    "    def push(self, item):\n",
    "        self.items.append(item) # The method append() appends a passed obj into the existing list.\n",
    "\n",
    "    def pop(self):\n",
    "        return self.items.pop() # The method pop() removes and returns last object or obj from the list.\n",
    "    \n",
    "    def peek(self):\n",
    "        return self.items[len(self.items)-1]"
   ]
  },
  {
   "cell_type": "code",
   "execution_count": 2,
   "metadata": {},
   "outputs": [
    {
     "name": "stdout",
     "output_type": "stream",
     "text": [
      "True\n",
      "0\n",
      "\n",
      "False\n",
      "3\n",
      "\n",
      "3\n",
      "2\n",
      "2\n"
     ]
    }
   ],
   "source": [
    "s = Stack()\n",
    "print(s.isEmpty())\n",
    "print(s.size())\n",
    "print()\n",
    "s.push(1)\n",
    "s.push(2)\n",
    "s.push(3)\n",
    "print(s.isEmpty())\n",
    "print(s.size())\n",
    "print()\n",
    "print(s.pop())\n",
    "print(s.size())\n",
    "print(s.peek())"
   ]
  },
  {
   "cell_type": "markdown",
   "metadata": {},
   "source": [
    "### Balanced Parentheses"
   ]
  },
  {
   "cell_type": "code",
   "execution_count": 3,
   "metadata": {},
   "outputs": [],
   "source": [
    "# Are they balanced?\n",
    "\n",
    "par_li = [\n",
    "\n",
    "'(()()()())',\n",
    "\n",
    "'(((())))',\n",
    "\n",
    "'(()((())()))',\n",
    "\n",
    "'((((((())',\n",
    "\n",
    "'()))',\n",
    "\n",
    "'(()()(()',\n",
    "\n",
    "]"
   ]
  },
  {
   "cell_type": "code",
   "execution_count": 4,
   "metadata": {},
   "outputs": [],
   "source": [
    "def checkBalancedParentheses(test_string):\n",
    "    s = Stack()\n",
    "    for c in test_string:\n",
    "        if c == \"(\":\n",
    "            s.push(\"(\")\n",
    "        elif c == \")\":\n",
    "            if s.isEmpty():\n",
    "                return False\n",
    "            s.pop()\n",
    "        else:\n",
    "            pass\n",
    "            # ?\n",
    "    \n",
    "    if s.isEmpty():\n",
    "        return True\n",
    "    else:\n",
    "        return False"
   ]
  },
  {
   "cell_type": "code",
   "execution_count": 5,
   "metadata": {},
   "outputs": [
    {
     "name": "stdout",
     "output_type": "stream",
     "text": [
      "True\n",
      "True\n",
      "True\n",
      "False\n",
      "False\n",
      "False\n"
     ]
    }
   ],
   "source": [
    "for test in par_li:\n",
    "    print(checkBalancedParentheses(test))"
   ]
  },
  {
   "cell_type": "markdown",
   "metadata": {},
   "source": [
    "### Balanced Symbols"
   ]
  },
  {
   "cell_type": "code",
   "execution_count": 6,
   "metadata": {},
   "outputs": [],
   "source": [
    "sym_li = [\n",
    "\n",
    "'{ { ( [ ] [ ] ) } ( ) }',\n",
    "\n",
    "'[ [ { { ( ( ) ) } } ] ]',\n",
    "\n",
    "'[ ] [ ] [ ] ( ) { }',\n",
    "\n",
    "'( [ ) ]',\n",
    "\n",
    "'( ( ( ) ] ) )',\n",
    "\n",
    "'[ { ( ) ]',\n",
    "   \n",
    "]"
   ]
  },
  {
   "cell_type": "code",
   "execution_count": 7,
   "metadata": {},
   "outputs": [],
   "source": [
    "def checkBalancedSym(test_string):\n",
    "    s = Stack()\n",
    "    for c in test_string:\n",
    "        if c in \"([{\":\n",
    "            s.push(c)\n",
    "        elif c == ' ': # remove this if input string is condensed.\n",
    "            pass\n",
    "        else:\n",
    "            if s.isEmpty():\n",
    "                return False\n",
    "            if s.pop() != {\")\":\"(\", \"]\":\"[\", \"}\":\"{\"}[c]:\n",
    "                return False\n",
    "    \n",
    "    if s.isEmpty():\n",
    "        return True\n",
    "    else:\n",
    "        return False"
   ]
  },
  {
   "cell_type": "code",
   "execution_count": 8,
   "metadata": {},
   "outputs": [
    {
     "name": "stdout",
     "output_type": "stream",
     "text": [
      "True\n",
      "True\n",
      "True\n",
      "False\n",
      "False\n",
      "False\n"
     ]
    }
   ],
   "source": [
    "for sym in sym_li:\n",
    "    print(checkBalancedSym(sym))"
   ]
  }
 ],
 "metadata": {
  "kernelspec": {
   "display_name": "Python [default]",
   "language": "python",
   "name": "python3"
  },
  "language_info": {
   "codemirror_mode": {
    "name": "ipython",
    "version": 3
   },
   "file_extension": ".py",
   "mimetype": "text/x-python",
   "name": "python",
   "nbconvert_exporter": "python",
   "pygments_lexer": "ipython3",
   "version": "3.6.3"
  }
 },
 "nbformat": 4,
 "nbformat_minor": 2
}
