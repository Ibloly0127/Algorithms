{
 "cells": [
  {
   "cell_type": "markdown",
   "metadata": {},
   "source": [
    "## Hash"
   ]
  },
  {
   "cell_type": "markdown",
   "metadata": {},
   "source": [
    "### Hashing"
   ]
  },
  {
   "cell_type": "code",
   "execution_count": 1,
   "metadata": {},
   "outputs": [
    {
     "name": "stdout",
     "output_type": "stream",
     "text": [
      "Help on built-in function hash in module builtins:\n",
      "\n",
      "hash(obj, /)\n",
      "    Return the hash value for the given object.\n",
      "    \n",
      "    Two objects that compare equal must also have the same hash value, but the\n",
      "    reverse is not necessarily true.\n",
      "\n"
     ]
    },
    {
     "data": {
      "text/plain": [
       "'\\nReturn the hash value of the object (if it has one).\\nHash values are integers.\\n---->  They are used to quickly compare dictionary keys during a dictionary lookup.\\nNumeric values that compare equal have the same hash value (even if they are of different types, as is the case for 1 and 1.0).\\nNote For objects with custom __hash__() methods, note that hash() truncates the return value based on the bit width of the host machine.\\n'"
      ]
     },
     "execution_count": 1,
     "metadata": {},
     "output_type": "execute_result"
    }
   ],
   "source": [
    "help(hash)\n",
    "\n",
    "'''\n",
    "Return the hash value of the object (if it has one).\n",
    "Hash values are integers.\n",
    "---->  They are used to quickly compare dictionary keys during a dictionary lookup.\n",
    "Numeric values that compare equal have the same hash value (even if they are of different types, as is the case for 1 and 1.0).\n",
    "Note For objects with custom __hash__() methods, note that hash() truncates the return value based on the bit width of the host machine.\n",
    "'''\n"
   ]
  },
  {
   "cell_type": "code",
   "execution_count": 2,
   "metadata": {},
   "outputs": [
    {
     "name": "stdout",
     "output_type": "stream",
     "text": [
      "unhashable type: 'list'\n"
     ]
    }
   ],
   "source": [
    "li = ['abc', 123, (0, 1)]\n",
    "try:\n",
    "    hash(li)\n",
    "except Exception as e:\n",
    "    print(e)"
   ]
  },
  {
   "cell_type": "code",
   "execution_count": 3,
   "metadata": {},
   "outputs": [
    {
     "name": "stdout",
     "output_type": "stream",
     "text": [
      "{'sha256', 'SHA256', 'sha3_384', 'sha3_224', 'md4', 'whirlpool', 'SHA1', 'SHA224', 'blake2s', 'shake_256', 'SHA512', 'md5', 'DSA', 'dsaWithSHA', 'sha384', 'sha3_256', 'sha', 'DSA-SHA', 'sha512', 'dsaEncryption', 'MD4', 'RIPEMD160', 'shake_128', 'sha3_512', 'MD5', 'sha224', 'SHA384', 'SHA', 'ripemd160', 'blake2b', 'ecdsa-with-SHA1', 'sha1'}\n"
     ]
    }
   ],
   "source": [
    "import hashlib\n",
    "print(hashlib.algorithms_available)"
   ]
  },
  {
   "cell_type": "code",
   "execution_count": 4,
   "metadata": {},
   "outputs": [
    {
     "data": {
      "text/plain": [
       "'00000001'"
      ]
     },
     "execution_count": 4,
     "metadata": {},
     "output_type": "execute_result"
    }
   ],
   "source": [
    "def myHash(i):\n",
    "    return \"%.8X\" % (i % 2147483647)\n",
    "\n",
    "myHash(1)"
   ]
  },
  {
   "cell_type": "markdown",
   "metadata": {},
   "source": [
    "### Bloom Filter : a membership function\n",
    "\n",
    "[Wiki] A Bloom filter is a space-efficient probabilistic data structure, conceived by Burton Howard Bloom in 1970, that is used **to test whether an element is a member of a set**. False positive matches are possible, but false negatives are not – in other words, a query returns either \"possibly in set\" or \"definitely not in set\". Elements can be added to the set, but not removed (though this can be addressed with a \"counting\" filter); the more elements that are added to the set, the larger the probability of false positives."
   ]
  },
  {
   "cell_type": "code",
   "execution_count": 5,
   "metadata": {},
   "outputs": [],
   "source": [
    "class myBM:\n",
    "    \n",
    "    bits = None\n",
    "    my_k = [13, 41, 71, 107, 307, 419, 877]\n",
    "    size = 1024 #* 1024\n",
    "    \n",
    "    def __init__(self, data = None):\n",
    "        if data == None:\n",
    "            self.bits = list([False]*self.size)\n",
    "        else:\n",
    "            self.bits = list([False]*self.size)\n",
    "            for i in data:\n",
    "                self.add(i)\n",
    "        \n",
    "    def add(self, newItem):\n",
    "        for k in self.my_k:\n",
    "            v = self.__myhash(newItem, k)\n",
    "            self.bits[v] = True\n",
    "    \n",
    "    def __myhash(self, i, k):\n",
    "        return i % k\n",
    "    \n",
    "    def __contains__(self, i):\n",
    "        for k in self.my_k:\n",
    "            v = self.__myhash(i, k)\n",
    "            if self.bits[v] == False:\n",
    "                return False\n",
    "        return True"
   ]
  },
  {
   "cell_type": "code",
   "execution_count": 6,
   "metadata": {},
   "outputs": [],
   "source": [
    "bm = myBM()\n",
    "\n",
    "members = [18, 346, 672, 823, 74]\n",
    "for m in members:\n",
    "    bm.add(m)"
   ]
  },
  {
   "cell_type": "code",
   "execution_count": 7,
   "metadata": {},
   "outputs": [
    {
     "name": "stdout",
     "output_type": "stream",
     "text": [
      "True\n",
      "True\n",
      "True\n",
      "False\n",
      "False\n",
      "False\n"
     ]
    }
   ],
   "source": [
    "print(74 in bm)\n",
    "print(346 in bm)\n",
    "print(823 in bm)\n",
    "\n",
    "print(1 in bm)\n",
    "print(88 in bm)\n",
    "print(298 in bm)"
   ]
  },
  {
   "cell_type": "markdown",
   "metadata": {},
   "source": [
    "### Find an example of false positive "
   ]
  },
  {
   "cell_type": "code",
   "execution_count": 8,
   "metadata": {},
   "outputs": [
    {
     "name": "stdout",
     "output_type": "stream",
     "text": [
      "3\n",
      "4\n",
      "5\n",
      "8\n",
      "9\n",
      "16\n",
      "30\n",
      "FP rate: 0.0068359375\n"
     ]
    }
   ],
   "source": [
    "count = 0\n",
    "for i in range(bm.size):\n",
    "    if i in bm and i not in members:\n",
    "        count += 1\n",
    "        print(i)\n",
    "print(\"FP rate:\", count/bm.size)"
   ]
  },
  {
   "cell_type": "code",
   "execution_count": 9,
   "metadata": {},
   "outputs": [],
   "source": [
    "# Question: how to design a better my_k?"
   ]
  },
  {
   "cell_type": "markdown",
   "metadata": {},
   "source": [
    "Theoretical Analysis of false positive is here.\n",
    "\n",
    "https://people.eecs.berkeley.edu/~daw/teaching/cs170-s03/Notes/lecture10.pdf"
   ]
  },
  {
   "cell_type": "markdown",
   "metadata": {},
   "source": [
    "### Collisions\n",
    "\n",
    "The simplest way to handle collisions is to use a method called **separate chaining**. Each entry in the hash table serves as a head of a list containing all the keys that are hashed into the entry.\n",
    "\n",
    "Another simple method is **linear probing**. The size of the table is fixed."
   ]
  },
  {
   "cell_type": "code",
   "execution_count": 10,
   "metadata": {},
   "outputs": [],
   "source": [
    "class mySet:\n",
    "    li = None\n",
    "    k = 13\n",
    "    \n",
    "    def __init__(self):\n",
    "        self.li = [None]*self.k\n",
    "        \n",
    "    def __myhash(self, item):\n",
    "        return item % self.k\n",
    "        \n",
    "    def add(self, newItem):\n",
    "        h = self.__myhash(newItem)\n",
    "        if self.li[h] != None:\n",
    "            if newItem not in self.li[h]:\n",
    "                self.li[h].append(newItem) # try to rewrite this by using sorted list\n",
    "        else:\n",
    "            self.li[h] = [newItem]\n",
    "    \n",
    "    def __str__(self):\n",
    "        return str(self.li)\n",
    "    \n",
    "    def __contains__(self, item):\n",
    "        h = self.__myhash(item)\n",
    "        return True if item in self.li[h] else False # try to rewrite it by using binary search"
   ]
  },
  {
   "cell_type": "code",
   "execution_count": 11,
   "metadata": {},
   "outputs": [],
   "source": [
    "s = mySet()\n",
    "for i in range(30):\n",
    "    s.add(i)"
   ]
  },
  {
   "cell_type": "code",
   "execution_count": 12,
   "metadata": {},
   "outputs": [
    {
     "name": "stdout",
     "output_type": "stream",
     "text": [
      "[[0, 13, 26], [1, 14, 27], [2, 15, 28], [3, 16, 29], [4, 17], [5, 18], [6, 19], [7, 20], [8, 21], [9, 22], [10, 23], [11, 24], [12, 25]]\n"
     ]
    }
   ],
   "source": [
    "print(s)"
   ]
  },
  {
   "cell_type": "code",
   "execution_count": 13,
   "metadata": {},
   "outputs": [
    {
     "name": "stdout",
     "output_type": "stream",
     "text": [
      "False\n",
      "True\n"
     ]
    }
   ],
   "source": [
    "print(45 in s)\n",
    "print(11 in s)"
   ]
  }
 ],
 "metadata": {
  "kernelspec": {
   "display_name": "Python [default]",
   "language": "python",
   "name": "python3"
  },
  "language_info": {
   "codemirror_mode": {
    "name": "ipython",
    "version": 3
   },
   "file_extension": ".py",
   "mimetype": "text/x-python",
   "name": "python",
   "nbconvert_exporter": "python",
   "pygments_lexer": "ipython3",
   "version": "3.6.3"
  }
 },
 "nbformat": 4,
 "nbformat_minor": 2
}
