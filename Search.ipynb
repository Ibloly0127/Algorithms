{
 "cells": [
  {
   "cell_type": "markdown",
   "metadata": {},
   "source": [
    "## Search"
   ]
  },
  {
   "cell_type": "markdown",
   "metadata": {},
   "source": [
    "### Search an unsorted list: Sequence/Linear Search"
   ]
  },
  {
   "cell_type": "code",
   "execution_count": 1,
   "metadata": {},
   "outputs": [],
   "source": [
    "def indexOfMin(li):\n",
    "    \"\"\"\n",
    "    Return the index of the minimum item.\n",
    "    \"\"\"\n",
    "    \n",
    "    # base case 1: list is empty\n",
    "    if len(li) == 0:\n",
    "        return None\n",
    "    \n",
    "    # other case: iterate all items\n",
    "    minIndex = 0\n",
    "    curIndex = 0\n",
    "    for i in range(len(li)):\n",
    "        if li[curIndex] < li[minIndex]:\n",
    "            minIndex = i\n",
    "        curIndex += 1\n",
    "    \n",
    "    # return\n",
    "    return minIndex"
   ]
  },
  {
   "cell_type": "code",
   "execution_count": 2,
   "metadata": {},
   "outputs": [
    {
     "name": "stdout",
     "output_type": "stream",
     "text": [
      "index 4\n",
      "value 3\n"
     ]
    }
   ],
   "source": [
    "li = [23, 654, 21, 143, 3, 82, 26, 4123]\n",
    "m = indexOfMin(li)\n",
    "\n",
    "print(\"index\", m)\n",
    "print(\"value\", li[m])"
   ]
  },
  {
   "cell_type": "code",
   "execution_count": 3,
   "metadata": {},
   "outputs": [],
   "source": [
    "# Question: Big O?\n",
    "# Python: min(), why it is much better?\n",
    "test_li = list(range(100000))"
   ]
  },
  {
   "cell_type": "code",
   "execution_count": 4,
   "metadata": {},
   "outputs": [
    {
     "name": "stdout",
     "output_type": "stream",
     "text": [
      "18.8 ms ± 191 µs per loop (mean ± std. dev. of 7 runs, 100 loops each)\n"
     ]
    }
   ],
   "source": [
    "%timeit indexOfMin(test_li)"
   ]
  },
  {
   "cell_type": "code",
   "execution_count": 5,
   "metadata": {},
   "outputs": [
    {
     "name": "stdout",
     "output_type": "stream",
     "text": [
      "2.86 ms ± 47.9 µs per loop (mean ± std. dev. of 7 runs, 100 loops each)\n"
     ]
    }
   ],
   "source": [
    "%timeit min(test_li)"
   ]
  },
  {
   "cell_type": "code",
   "execution_count": 6,
   "metadata": {},
   "outputs": [],
   "source": [
    "def sequentialSearch(target, li):\n",
    "    \"\"\"\n",
    "    Return the position of the target, if found; otherwise return None\n",
    "    \"\"\"\n",
    "    \n",
    "    # case: iterate all items\n",
    "    for i in range(len(li)):\n",
    "        if li[i] == target:\n",
    "            return i\n",
    "        \n",
    "    # base case: not found\n",
    "    return None"
   ]
  },
  {
   "cell_type": "code",
   "execution_count": 7,
   "metadata": {},
   "outputs": [
    {
     "name": "stdout",
     "output_type": "stream",
     "text": [
      "index 6\n",
      "value 26\n"
     ]
    }
   ],
   "source": [
    "ret = sequentialSearch(26, li)\n",
    "\n",
    "print(\"index\", ret)\n",
    "if ret:\n",
    "    print(\"value\", li[ret])"
   ]
  },
  {
   "cell_type": "code",
   "execution_count": 8,
   "metadata": {},
   "outputs": [
    {
     "name": "stdout",
     "output_type": "stream",
     "text": [
      "4.82 ms ± 79.8 µs per loop (mean ± std. dev. of 7 runs, 100 loops each)\n"
     ]
    }
   ],
   "source": [
    "%timeit sequentialSearch(50000, test_li)"
   ]
  },
  {
   "cell_type": "code",
   "execution_count": 9,
   "metadata": {},
   "outputs": [
    {
     "name": "stdout",
     "output_type": "stream",
     "text": [
      "1.09 ms ± 3.68 µs per loop (mean ± std. dev. of 7 runs, 1000 loops each)\n"
     ]
    }
   ],
   "source": [
    "%timeit 50000 in test_li"
   ]
  },
  {
   "cell_type": "code",
   "execution_count": 10,
   "metadata": {},
   "outputs": [],
   "source": [
    "# Question: best case, worst case, average case?\n",
    "# http://interactivepython.org/runestone/static/pythonds/SortSearch/TheSequentialSearch.html"
   ]
  },
  {
   "cell_type": "markdown",
   "metadata": {},
   "source": [
    "### Search a sorted list, BinarySearch"
   ]
  },
  {
   "cell_type": "code",
   "execution_count": 11,
   "metadata": {},
   "outputs": [],
   "source": [
    "def binarySearch(target, li):\n",
    "    left = 0 # index\n",
    "    right = len(li) - 1 # index\n",
    "    \n",
    "    while left <= right:\n",
    "        mid = (left + right) // 2\n",
    "        \n",
    "        if target == li[mid]:\n",
    "            return mid\n",
    "        elif target < li[mid]:\n",
    "            right = mid - 1\n",
    "        else: # target > li[mid]:\n",
    "            left = mid + 1\n",
    "\n",
    "    # not found\n",
    "    return None"
   ]
  },
  {
   "cell_type": "code",
   "execution_count": 12,
   "metadata": {},
   "outputs": [
    {
     "name": "stdout",
     "output_type": "stream",
     "text": [
      "[3, 21, 23, 26, 82, 143, 654, 4123]\n",
      "index 3\n",
      "value 26\n"
     ]
    }
   ],
   "source": [
    "li = [23, 654, 21, 143, 3, 82, 26, 4123]\n",
    "li.sort() # in place sort\n",
    "ret = binarySearch(26, li)\n",
    "\n",
    "print(li)\n",
    "print(\"index\", ret)\n",
    "if ret:\n",
    "    print(\"value\", li[ret])"
   ]
  },
  {
   "cell_type": "code",
   "execution_count": 13,
   "metadata": {},
   "outputs": [],
   "source": [
    "# Question: best case, worst case, average case?\n",
    "# Big O: O(log2 n)\n",
    "# http://interactivepython.org/runestone/static/pythonds/SortSearch/TheBinarySearch.html"
   ]
  },
  {
   "cell_type": "markdown",
   "metadata": {},
   "source": [
    "### Plot binarySearch "
   ]
  },
  {
   "cell_type": "code",
   "execution_count": 14,
   "metadata": {},
   "outputs": [],
   "source": [
    "def binarySearch2(target, li):\n",
    "    iteration = 0\n",
    "    \n",
    "    left = 0 # index\n",
    "    right = len(li) - 1 # index\n",
    "    \n",
    "    while left <= right:\n",
    "        mid = (left + right) // 2\n",
    "        \n",
    "        if target == li[mid]:\n",
    "            return iteration # return iteration, not T/F\n",
    "        elif target < li[mid]:\n",
    "            right = mid - 1\n",
    "        else: # target > li[mid]:\n",
    "            left = mid + 1\n",
    "            \n",
    "        iteration += 1\n",
    "\n",
    "    # not found\n",
    "    return iteration"
   ]
  },
  {
   "cell_type": "code",
   "execution_count": 15,
   "metadata": {},
   "outputs": [
    {
     "name": "stdout",
     "output_type": "stream",
     "text": [
      "11\n",
      "4\n"
     ]
    }
   ],
   "source": [
    "import random\n",
    "\n",
    "initProblemSize = 128\n",
    "li = list(range(initProblemSize))\n",
    "target = random.randint(0, initProblemSize-1) # randint(a, b) returns a random integer N such that a <= N <= b.\n",
    "\n",
    "print(target)\n",
    "print(binarySearch2(target, li))"
   ]
  },
  {
   "cell_type": "code",
   "execution_count": 16,
   "metadata": {},
   "outputs": [
    {
     "name": "stdout",
     "output_type": "stream",
     "text": [
      "Problem Size       Target    Iteration\n",
      "        1000          688            9\n",
      "        2000          701            6\n",
      "        4000         2659           11\n",
      "        8000         5159           12\n",
      "       16000         7692           13\n",
      "       32000        29285           13\n",
      "       64000        50113           15\n",
      "      128000        66266           15\n",
      "      256000       239425           17\n",
      "      512000       411590           17\n",
      "     1024000       132883           18\n",
      "     2048000       128804           20\n",
      "     4096000      3852474           21\n",
      "     8192000       388499           13\n",
      "    16384000      5701515           23\n",
      "    32768000     31120569           24\n"
     ]
    }
   ],
   "source": [
    "import random\n",
    "\n",
    "# init\n",
    "initProblemSize = 1000\n",
    "epoch = 16\n",
    "x_li = list()\n",
    "y_li = list()\n",
    "\n",
    "print(\"%12s %12s %12s\" % (\"Problem Size\", \"Target\", \"Iteration\"))\n",
    "\n",
    "# before into epoch\n",
    "problemSize = initProblemSize\n",
    "for e in range(epoch):\n",
    "    \n",
    "    # init for each epoch\n",
    "    li = list(range(problemSize))\n",
    "    target = random.randint(0, problemSize-1)\n",
    "    \n",
    "    ############\n",
    "    it = binarySearch2(target, li)\n",
    "    ############\n",
    "\n",
    "    x_li.append(problemSize)\n",
    "    y_li.append(it)\n",
    "    print(\"%12d %12d %12d\" % (problemSize, target, it))\n",
    "    \n",
    "    # for next epoch\n",
    "    problemSize *= 2"
   ]
  },
  {
   "cell_type": "code",
   "execution_count": 17,
   "metadata": {},
   "outputs": [
    {
     "data": {
      "image/png": "[encoded data removed]",
      "text/plain": [
       "<matplotlib.figure.Figure at 0x22002f16860>"
      ]
     },
     "metadata": {},
     "output_type": "display_data"
    }
   ],
   "source": [
    "import numpy as np\n",
    "import matplotlib.pyplot as plt\n",
    "%matplotlib inline\n",
    "\n",
    "fig, ax1 = plt.subplots()\n",
    "ax1.plot(x_li, y_li, 'b-', label='Iteration')\n",
    "ax1.set_xlabel('Problem Size')\n",
    "ax1.set_ylabel('Iteration', color='b')\n",
    "ax1.tick_params('s', colors='b')\n",
    "\n",
    "ax2 = ax1.twinx()\n",
    "x = np.linspace(initProblemSize, problemSize/2.0, 100) # hack\n",
    "ax2.plot(x, np.log2(x), 'r--', label='log2 n')\n",
    "ax2.set_ylabel('Logarithmic', color='r')\n",
    "ax2.tick_params('y', colors='r')\n",
    "ax2.legend()\n",
    "\n",
    "plt.show()"
   ]
  }
 ],
 "metadata": {
  "kernelspec": {
   "display_name": "Python [default]",
   "language": "python",
   "name": "python3"
  },
  "language_info": {
   "codemirror_mode": {
    "name": "ipython",
    "version": 3
   },
   "file_extension": ".py",
   "mimetype": "text/x-python",
   "name": "python",
   "nbconvert_exporter": "python",
   "pygments_lexer": "ipython3",
   "version": "3.6.3"
  }
 },
 "nbformat": 4,
 "nbformat_minor": 2
}
