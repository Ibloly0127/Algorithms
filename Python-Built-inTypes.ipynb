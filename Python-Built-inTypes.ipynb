{
 "cells": [
  {
   "cell_type": "markdown",
   "metadata": {
    "deletable": true,
    "editable": true
   },
   "source": [
    "## Python Built-in Types\n",
    "https://docs.python.org/3.6/library/stdtypes.html"
   ]
  },
  {
   "cell_type": "markdown",
   "metadata": {
    "deletable": true,
    "editable": true
   },
   "source": [
    "### Boolean Operations\n",
    "``and or not``"
   ]
  },
  {
   "cell_type": "code",
   "execution_count": 1,
   "metadata": {
    "collapsed": false,
    "deletable": true,
    "editable": true
   },
   "outputs": [
    {
     "name": "stdout",
     "output_type": "stream",
     "text": [
      "True\n",
      "Not False\n",
      "True or False\n",
      "True and not False\n"
     ]
    }
   ],
   "source": [
    "t = True\n",
    "f = False\n",
    "\n",
    "if t: print(\"True\")\n",
    "if not f: print(\"Not False\")\n",
    "if t or f: print(\"True or False\")\n",
    "if t and not f: print(\"True and not False\")"
   ]
  },
  {
   "cell_type": "markdown",
   "metadata": {
    "deletable": true,
    "editable": true
   },
   "source": [
    "### Comparisons"
   ]
  },
  {
   "cell_type": "code",
   "execution_count": 2,
   "metadata": {
    "collapsed": false,
    "deletable": true,
    "editable": true
   },
   "outputs": [
    {
     "name": "stdout",
     "output_type": "stream",
     "text": [
      "True\n",
      "True\n",
      "False\n",
      "False\n",
      "False\n",
      "True\n"
     ]
    }
   ],
   "source": [
    "print(1<2)\n",
    "print(1<=2)\n",
    "print(1>2)\n",
    "print(1>=2)\n",
    "print(1==2)\n",
    "print(1!=2)"
   ]
  },
  {
   "cell_type": "code",
   "execution_count": 3,
   "metadata": {
    "collapsed": false,
    "deletable": true,
    "editable": true
   },
   "outputs": [
    {
     "name": "stdout",
     "output_type": "stream",
     "text": [
      "False\n",
      "False\n",
      "True\n"
     ]
    }
   ],
   "source": [
    "a = 1\n",
    "b = 2 # Try b = 1 \n",
    "\n",
    "print(a==b)\n",
    "print(a is b) # object identity\n",
    "print(a is not b) # negated object identity\n",
    "\n",
    "# x is y is true if and only if x and y are the same object"
   ]
  },
  {
   "cell_type": "code",
   "execution_count": 4,
   "metadata": {
    "collapsed": false,
    "deletable": true,
    "editable": true
   },
   "outputs": [
    {
     "name": "stdout",
     "output_type": "stream",
     "text": [
      "1670340768\n",
      "1670340800\n"
     ]
    }
   ],
   "source": [
    "'''\n",
    "id() Return the “identity” of an object.\n",
    "This is an integer which is guaranteed to be unique and constant for this object during its lifetime. \n",
    "'''\n",
    "\n",
    "print(id(a))\n",
    "print(id(b))"
   ]
  },
  {
   "cell_type": "markdown",
   "metadata": {
    "deletable": true,
    "editable": true
   },
   "source": [
    "### None"
   ]
  },
  {
   "cell_type": "code",
   "execution_count": 5,
   "metadata": {
    "collapsed": false,
    "deletable": true,
    "editable": true
   },
   "outputs": [
    {
     "name": "stdout",
     "output_type": "stream",
     "text": [
      "None\n",
      "True\n",
      "False\n"
     ]
    }
   ],
   "source": [
    "n = None\n",
    "print(n)\n",
    "print(n==None)\n",
    "print(None==0)"
   ]
  },
  {
   "cell_type": "markdown",
   "metadata": {
    "deletable": true,
    "editable": true
   },
   "source": [
    "### Numeric Types\n",
    "``int float complex``"
   ]
  },
  {
   "cell_type": "code",
   "execution_count": 6,
   "metadata": {
    "collapsed": true,
    "deletable": true,
    "editable": true
   },
   "outputs": [],
   "source": [
    "i = 5\n",
    "f = -1.2\n",
    "z = 1 + 2j"
   ]
  },
  {
   "cell_type": "code",
   "execution_count": 7,
   "metadata": {
    "collapsed": false,
    "deletable": true,
    "editable": true
   },
   "outputs": [
    {
     "name": "stdout",
     "output_type": "stream",
     "text": [
      "1.2\n",
      "-1\n",
      "5.0\n",
      "-2.4883199999999994\n"
     ]
    }
   ],
   "source": [
    "print(abs(f))\n",
    "print(int(f))\n",
    "\n",
    "print(float(i))\n",
    "print(pow(f, i)) # f**i"
   ]
  },
  {
   "cell_type": "code",
   "execution_count": 8,
   "metadata": {
    "collapsed": false,
    "deletable": true,
    "editable": true,
    "scrolled": true
   },
   "outputs": [
    {
     "name": "stdout",
     "output_type": "stream",
     "text": [
      "<class 'int'>\n",
      "<class 'float'>\n",
      "<class 'complex'>\n",
      "<class 'NoneType'>\n"
     ]
    }
   ],
   "source": [
    "print(type(i))\n",
    "print(type(f))\n",
    "print(type(z))\n",
    "print(type(None))"
   ]
  },
  {
   "cell_type": "markdown",
   "metadata": {
    "deletable": true,
    "editable": true
   },
   "source": [
    "### Bitwise Operations"
   ]
  },
  {
   "cell_type": "code",
   "execution_count": 9,
   "metadata": {
    "collapsed": false,
    "deletable": true,
    "editable": true
   },
   "outputs": [
    {
     "name": "stdout",
     "output_type": "stream",
     "text": [
      "<class 'int'>\n",
      "240 170\n",
      "0b10100000\n",
      "0b11111010\n",
      "0b1011010\n",
      "0b1111000000\n",
      "0b111100\n",
      "-0b11110001\n"
     ]
    }
   ],
   "source": [
    "x = 0b11110000\n",
    "y = 0b10101010\n",
    "\n",
    "print(type(x))\n",
    "print(x, y)\n",
    "\n",
    "print(bin(x&y)) # and\n",
    "print(bin(x|y)) # or\n",
    "print(bin(x^y)) # xor\n",
    "print(bin(x<<2)) # left shift\n",
    "print(bin(x>>2)) # rigth shift\n",
    "print(bin(~x)) # invert"
   ]
  },
  {
   "cell_type": "markdown",
   "metadata": {
    "deletable": true,
    "editable": true
   },
   "source": [
    "### Iterator Types"
   ]
  },
  {
   "cell_type": "code",
   "execution_count": 12,
   "metadata": {
    "collapsed": false,
    "deletable": true,
    "editable": true
   },
   "outputs": [
    {
     "name": "stdout",
     "output_type": "stream",
     "text": [
      "<class 'list_iterator'>\n"
     ]
    }
   ],
   "source": [
    "li_it = iter([0,1,2,3,4,5,6,7,8,9])\n",
    "print(type(li_it))"
   ]
  },
  {
   "cell_type": "code",
   "execution_count": 13,
   "metadata": {
    "collapsed": false,
    "deletable": true,
    "editable": true
   },
   "outputs": [
    {
     "name": "stdout",
     "output_type": "stream",
     "text": [
      "0\n"
     ]
    }
   ],
   "source": [
    "print(next(li_it))"
   ]
  },
  {
   "cell_type": "markdown",
   "metadata": {
    "deletable": true,
    "editable": true
   },
   "source": [
    "### Sequence Types\n",
    "``list``: ordered, mutable, sequence, [item1, item2, ...]\n",
    "\n",
    "``tuple``: ordered, immutable, sequence, (item1, item2, ...)\n",
    "\n",
    "``range``: ordered, immutable, sequence"
   ]
  },
  {
   "cell_type": "code",
   "execution_count": 14,
   "metadata": {
    "collapsed": false,
    "deletable": true,
    "editable": true
   },
   "outputs": [
    {
     "name": "stdout",
     "output_type": "stream",
     "text": [
      "<class 'list'>\n",
      "[1, 2, 3, 4, 5, 6]\n"
     ]
    }
   ],
   "source": [
    "# list: ordered, mutable sequence, []\n",
    "\n",
    "li = [1, 2, 3, 4, 5, 6]\n",
    "print(type(li))\n",
    "print(li)"
   ]
  },
  {
   "cell_type": "code",
   "execution_count": 15,
   "metadata": {
    "collapsed": false,
    "deletable": true,
    "editable": true
   },
   "outputs": [
    {
     "name": "stdout",
     "output_type": "stream",
     "text": [
      "<class 'tuple'>\n",
      "(1, 2, 3, 4, 5, 6)\n"
     ]
    }
   ],
   "source": [
    "# tuple: ordered, immutable sequence, ()\n",
    "\n",
    "tp = (1, 2, 3, 4, 5, 6)\n",
    "print(type(tp))\n",
    "print(tp)"
   ]
  },
  {
   "cell_type": "code",
   "execution_count": 16,
   "metadata": {
    "collapsed": false,
    "deletable": true,
    "editable": true
   },
   "outputs": [
    {
     "name": "stdout",
     "output_type": "stream",
     "text": [
      "<class 'range'>\n",
      "range(0, 7)\n"
     ]
    }
   ],
   "source": [
    "# range: ordered, immutable sequence, take smaller amount of memory\n",
    "\n",
    "rg = range(0, 7, 1)\n",
    "print(type(rg))\n",
    "print(rg)"
   ]
  },
  {
   "cell_type": "code",
   "execution_count": 17,
   "metadata": {
    "collapsed": false,
    "deletable": true,
    "editable": true
   },
   "outputs": [
    {
     "name": "stdout",
     "output_type": "stream",
     "text": [
      "[]\n",
      "[]\n",
      "[1, 2, 3, 4, 5, 6]\n",
      "[0, 1, 2, 3, 4, 5, 6, 7, 8, 9]\n",
      "a b c\n"
     ]
    }
   ],
   "source": [
    "empty_li = list()\n",
    "print(empty_li)\n",
    "\n",
    "empty2_li = []\n",
    "print(empty2_li)\n",
    "\n",
    "li = list(tp)\n",
    "print(li)\n",
    "\n",
    "li = list(range(10))\n",
    "print(li)\n",
    "\n",
    "abc_tp = ('a', 'b', 'c') # Try to use lambda to write a swap function\n",
    "x, y, z = abc_tp\n",
    "print(x, y, z)"
   ]
  },
  {
   "cell_type": "code",
   "execution_count": 18,
   "metadata": {
    "collapsed": false,
    "deletable": true,
    "editable": true
   },
   "outputs": [
    {
     "data": {
      "text/plain": [
       "[0, 1, 2, 3, 4, 5, 6, 7, 8, 9]"
      ]
     },
     "execution_count": 18,
     "metadata": {},
     "output_type": "execute_result"
    }
   ],
   "source": [
    "# In and Out in ipython\n",
    "li"
   ]
  },
  {
   "cell_type": "code",
   "execution_count": 19,
   "metadata": {
    "collapsed": false,
    "deletable": true,
    "editable": true
   },
   "outputs": [
    {
     "data": {
      "text/plain": [
       "True"
      ]
     },
     "execution_count": 19,
     "metadata": {},
     "output_type": "execute_result"
    }
   ],
   "source": [
    "# in, note that in is an operation\n",
    "5 in li"
   ]
  },
  {
   "cell_type": "code",
   "execution_count": 20,
   "metadata": {
    "collapsed": false,
    "deletable": true,
    "editable": true
   },
   "outputs": [
    {
     "data": {
      "text/plain": [
       "True"
      ]
     },
     "execution_count": 20,
     "metadata": {},
     "output_type": "execute_result"
    }
   ],
   "source": [
    "7 not in tp"
   ]
  },
  {
   "cell_type": "code",
   "execution_count": 21,
   "metadata": {
    "collapsed": false,
    "deletable": true,
    "editable": true
   },
   "outputs": [
    {
     "data": {
      "text/plain": [
       "[0, 1, 2, 3, 'a', 'b', 'c', 'd']"
      ]
     },
     "execution_count": 21,
     "metadata": {},
     "output_type": "execute_result"
    }
   ],
   "source": [
    "s_li = [0, 1, 2, 3]\n",
    "t_li = ['a', 'b', 'c', 'd']\n",
    "\n",
    "s_li + t_li # concate"
   ]
  },
  {
   "cell_type": "code",
   "execution_count": 22,
   "metadata": {
    "collapsed": false,
    "deletable": true,
    "editable": true
   },
   "outputs": [
    {
     "name": "stdout",
     "output_type": "stream",
     "text": [
      "[0, 1.2, (3+4j), 'a', 'b', (5, 6), (7, 8, 9), [0, 'a', (1, 'b')]]\n",
      "8\n"
     ]
    }
   ],
   "source": [
    "li = [0, 1.2, 3+4j, 'a', 'b', (5, 6), (7, 8, 9), [0, 'a', (1, 'b')]]\n",
    "print(li)\n",
    "print(len(li))"
   ]
  },
  {
   "cell_type": "code",
   "execution_count": 23,
   "metadata": {
    "collapsed": false,
    "deletable": true,
    "editable": true
   },
   "outputs": [
    {
     "data": {
      "text/plain": [
       "[0, 1, 2, 3, 0, 1, 2, 3, 0, 1, 2, 3]"
      ]
     },
     "execution_count": 23,
     "metadata": {},
     "output_type": "execute_result"
    }
   ],
   "source": [
    "s_li * 3"
   ]
  },
  {
   "cell_type": "code",
   "execution_count": 24,
   "metadata": {
    "collapsed": false,
    "deletable": true,
    "editable": true
   },
   "outputs": [
    {
     "data": {
      "text/plain": [
       "[0, 1, 2, 3]"
      ]
     },
     "execution_count": 24,
     "metadata": {},
     "output_type": "execute_result"
    }
   ],
   "source": [
    "s_li # no effect by the previous operation"
   ]
  },
  {
   "cell_type": "code",
   "execution_count": 25,
   "metadata": {
    "collapsed": false,
    "deletable": true,
    "editable": true
   },
   "outputs": [
    {
     "data": {
      "text/plain": [
       "2"
      ]
     },
     "execution_count": 25,
     "metadata": {},
     "output_type": "execute_result"
    }
   ],
   "source": [
    "s_li[2] # index starts from 0"
   ]
  },
  {
   "cell_type": "code",
   "execution_count": 26,
   "metadata": {
    "collapsed": false,
    "deletable": true,
    "editable": true
   },
   "outputs": [
    {
     "data": {
      "text/plain": [
       "[0, 1]"
      ]
     },
     "execution_count": 26,
     "metadata": {},
     "output_type": "execute_result"
    }
   ],
   "source": [
    "s_li[0:2] # start:end"
   ]
  },
  {
   "cell_type": "code",
   "execution_count": 27,
   "metadata": {
    "collapsed": false,
    "deletable": true,
    "editable": true
   },
   "outputs": [
    {
     "data": {
      "text/plain": [
       "[1, 2, 3]"
      ]
     },
     "execution_count": 27,
     "metadata": {},
     "output_type": "execute_result"
    }
   ],
   "source": [
    "s_li[1:] # start:end, no end means to the end of the sequence"
   ]
  },
  {
   "cell_type": "code",
   "execution_count": 28,
   "metadata": {
    "collapsed": false,
    "deletable": true,
    "editable": true
   },
   "outputs": [
    {
     "data": {
      "text/plain": [
       "['a', 'b', 'c']"
      ]
     },
     "execution_count": 28,
     "metadata": {},
     "output_type": "execute_result"
    }
   ],
   "source": [
    "t_li[:3] # start:end, no statr means from the start of the sequence"
   ]
  },
  {
   "cell_type": "code",
   "execution_count": 29,
   "metadata": {
    "collapsed": false,
    "deletable": true,
    "editable": true
   },
   "outputs": [
    {
     "data": {
      "text/plain": [
       "['b', 'd']"
      ]
     },
     "execution_count": 29,
     "metadata": {},
     "output_type": "execute_result"
    }
   ],
   "source": [
    "t_li[1:4:2] # start:end:step, default step=1"
   ]
  },
  {
   "cell_type": "code",
   "execution_count": 30,
   "metadata": {
    "collapsed": false,
    "deletable": true,
    "editable": true
   },
   "outputs": [
    {
     "name": "stdout",
     "output_type": "stream",
     "text": [
      "4\n",
      "0\n",
      "3\n",
      "1\n",
      "2\n"
     ]
    }
   ],
   "source": [
    "# functions for sequence types\n",
    "\n",
    "print(len(s_li))\n",
    "print(min(s_li))\n",
    "print(max(s_li))\n",
    "print(t_li.count('c')) # has 1 'c' in t_li\n",
    "print(t_li.index('c')) # 'c' is at index 1 in t_li"
   ]
  },
  {
   "cell_type": "code",
   "execution_count": 31,
   "metadata": {
    "collapsed": false,
    "deletable": true,
    "editable": true
   },
   "outputs": [
    {
     "name": "stdout",
     "output_type": "stream",
     "text": [
      "[1, 2, 3]\n",
      "[1, 2, 3, 1, 2, 3, 1, 2, 3]\n",
      "['a', 2, 3, 1, 2, 3, 1, 2, 3]\n"
     ]
    }
   ],
   "source": [
    "# sequence concate\n",
    "\n",
    "li = [1, 2, 3]\n",
    "print(li)\n",
    "lis = li * 3\n",
    "print(lis)\n",
    "lis[0] = 'a'\n",
    "print(lis)"
   ]
  },
  {
   "cell_type": "code",
   "execution_count": 32,
   "metadata": {
    "collapsed": false,
    "deletable": true,
    "editable": true
   },
   "outputs": [
    {
     "name": "stdout",
     "output_type": "stream",
     "text": [
      "[0, 0, 0]\n",
      "[0, 0, 0, 0, 0, 0, 0, 0, 0]\n",
      "['a', 0, 0, 0, 0, 0, 0, 0, 0]\n"
     ]
    }
   ],
   "source": [
    "li = [0] * 3\n",
    "print(li)\n",
    "lis = li * 3\n",
    "print(lis)\n",
    "lis[0] = 'a'\n",
    "print(lis)"
   ]
  },
  {
   "cell_type": "code",
   "execution_count": 33,
   "metadata": {
    "collapsed": false,
    "deletable": true,
    "editable": true
   },
   "outputs": [
    {
     "name": "stdout",
     "output_type": "stream",
     "text": [
      "[[0, 1, 2], [3, 4, 5], [6, 7, 8]]\n"
     ]
    }
   ],
   "source": [
    "mx = [[0, 1, 2], [3, 4, 5], [6, 7, 8]]\n",
    "print(mx)"
   ]
  },
  {
   "cell_type": "code",
   "execution_count": 34,
   "metadata": {
    "collapsed": false,
    "deletable": true,
    "editable": true
   },
   "outputs": [
    {
     "name": "stdout",
     "output_type": "stream",
     "text": [
      "0\n",
      "1\n",
      "2\n",
      "3\n",
      "4\n",
      "5\n",
      "6\n",
      "7\n",
      "8\n"
     ]
    }
   ],
   "source": [
    "print(mx[0][0])\n",
    "print(mx[0][1])\n",
    "print(mx[0][2])\n",
    "print(mx[1][0])\n",
    "print(mx[1][1])\n",
    "print(mx[1][2])\n",
    "print(mx[2][0])\n",
    "print(mx[2][1])\n",
    "print(mx[2][2])"
   ]
  },
  {
   "cell_type": "code",
   "execution_count": 35,
   "metadata": {
    "collapsed": false,
    "deletable": true,
    "editable": true
   },
   "outputs": [
    {
     "name": "stdout",
     "output_type": "stream",
     "text": [
      "[3, 4, 5]\n",
      "['a', 4, 5]\n",
      "[[0, 1, 2], ['a', 4, 5], [6, 7, 8]]\n"
     ]
    }
   ],
   "source": [
    "mx = [[0, 1, 2], [3, 4, 5], [6, 7, 8]]\n",
    "li = mx[1] # li is a reference\n",
    "print(li)\n",
    "li[0] = 'a'\n",
    "print(li)\n",
    "print(mx)"
   ]
  },
  {
   "cell_type": "code",
   "execution_count": 38,
   "metadata": {
    "collapsed": false,
    "deletable": true,
    "editable": true
   },
   "outputs": [
    {
     "name": "stdout",
     "output_type": "stream",
     "text": [
      "[[0, 0, 0], [0, 0, 0], [0, 0, 0]]\n",
      "[[0, 1, 0], [0, 1, 0], [0, 1, 0]]\n"
     ]
    }
   ],
   "source": [
    "# reference problem\n",
    "lis = [[0]*3]*3 # do not use this!\n",
    "print(lis)\n",
    "lis[1][1] = 1\n",
    "print(lis)"
   ]
  },
  {
   "cell_type": "code",
   "execution_count": 41,
   "metadata": {
    "collapsed": false,
    "deletable": true,
    "editable": true
   },
   "outputs": [
    {
     "name": "stdout",
     "output_type": "stream",
     "text": [
      "[3, 4, 5]\n",
      "['a', 4, 5]\n",
      "[[0, 1, 2], [3, 4, 5], [6, 7, 8]]\n"
     ]
    }
   ],
   "source": [
    "# deep copy\n",
    "mx = [[0, 1, 2], [3, 4, 5], [6, 7, 8]]\n",
    "li = mx[1].copy() # li is a deep copy\n",
    "print(li)\n",
    "li[0] = 'a'\n",
    "print(li)\n",
    "print(mx)"
   ]
  },
  {
   "cell_type": "code",
   "execution_count": 42,
   "metadata": {
    "collapsed": false,
    "deletable": true,
    "editable": true
   },
   "outputs": [
    {
     "name": "stdout",
     "output_type": "stream",
     "text": [
      "[3, 4, 5]\n",
      "['a', 4, 5]\n",
      "[[0, 1, 2], [3, 4, 5], [6, 7, 8]]\n"
     ]
    }
   ],
   "source": [
    "# deep copy 2\n",
    "mx = [[0, 1, 2], [3, 4, 5], [6, 7, 8]]\n",
    "li = mx[1][:] # li is a deep copy, too\n",
    "print(li)\n",
    "li[0] = 'a'\n",
    "print(li)\n",
    "print(mx)"
   ]
  },
  {
   "cell_type": "markdown",
   "metadata": {
    "deletable": true,
    "editable": true
   },
   "source": [
    "### Mutable Sequence Operation"
   ]
  },
  {
   "cell_type": "code",
   "execution_count": 43,
   "metadata": {
    "collapsed": false,
    "deletable": true,
    "editable": true
   },
   "outputs": [
    {
     "data": {
      "text/plain": [
       "[0, 1, 2, 3, 4, 5, 6, 7, 8, 9]"
      ]
     },
     "execution_count": 43,
     "metadata": {},
     "output_type": "execute_result"
    }
   ],
   "source": [
    "li = list(range(10))\n",
    "li"
   ]
  },
  {
   "cell_type": "code",
   "execution_count": 44,
   "metadata": {
    "collapsed": false,
    "deletable": true,
    "editable": true
   },
   "outputs": [
    {
     "data": {
      "text/plain": [
       "[0, 1, 2, 3, 4, 5, 6, 7, 8]"
      ]
     },
     "execution_count": 44,
     "metadata": {},
     "output_type": "execute_result"
    }
   ],
   "source": [
    "del li[9]\n",
    "li"
   ]
  },
  {
   "cell_type": "code",
   "execution_count": 45,
   "metadata": {
    "collapsed": false,
    "deletable": true,
    "editable": true
   },
   "outputs": [
    {
     "data": {
      "text/plain": [
       "[0, 1, 2, 3, 4, 5, 6, 7, 8, 9]"
      ]
     },
     "execution_count": 45,
     "metadata": {},
     "output_type": "execute_result"
    }
   ],
   "source": [
    "li.append(9) # append an element at the end of the sequence\n",
    "li"
   ]
  },
  {
   "cell_type": "code",
   "execution_count": 46,
   "metadata": {
    "collapsed": false,
    "deletable": true,
    "editable": true
   },
   "outputs": [
    {
     "name": "stdout",
     "output_type": "stream",
     "text": [
      "[0, 1, 2, 3, 4, 5, 6, 7, 8, 9]\n",
      "[]\n"
     ]
    }
   ],
   "source": [
    "copy_li = li.copy()\n",
    "print(copy_li)\n",
    "copy_li.clear()\n",
    "print(copy_li)"
   ]
  },
  {
   "cell_type": "code",
   "execution_count": 47,
   "metadata": {
    "collapsed": false,
    "deletable": true,
    "editable": true
   },
   "outputs": [
    {
     "data": {
      "text/plain": [
       "[0, 1, 2, 3, 4, 5, 6, 7, 8, 9, 'a', 'b', 'c']"
      ]
     },
     "execution_count": 47,
     "metadata": {},
     "output_type": "execute_result"
    }
   ],
   "source": [
    "li = list(range(10))\n",
    "abc_li = ['a', 'b', 'c']\n",
    "li.extend(abc_li) # merget two sequences in place\n",
    "li"
   ]
  },
  {
   "cell_type": "code",
   "execution_count": 48,
   "metadata": {
    "collapsed": false,
    "deletable": true,
    "editable": true
   },
   "outputs": [
    {
     "data": {
      "text/plain": [
       "[0, 1, 2, 3, 4, 5, 6, 7, 8, 9, 'a', 'b', 'c']"
      ]
     },
     "execution_count": 48,
     "metadata": {},
     "output_type": "execute_result"
    }
   ],
   "source": [
    "li = list(range(10))\n",
    "abc_li = ['a', 'b', 'c']\n",
    "li += abc_li # same as extend\n",
    "li"
   ]
  },
  {
   "cell_type": "code",
   "execution_count": 49,
   "metadata": {
    "collapsed": false,
    "deletable": true,
    "editable": true
   },
   "outputs": [
    {
     "data": {
      "text/plain": [
       "[0, 1, 2, 3, 'a', 4, 5, 6, 7, 8, 9]"
      ]
     },
     "execution_count": 49,
     "metadata": {},
     "output_type": "execute_result"
    }
   ],
   "source": [
    "li = list(range(10))\n",
    "li.insert(4, 'a') # same as li[4] = 'a'\n",
    "li"
   ]
  },
  {
   "cell_type": "code",
   "execution_count": 50,
   "metadata": {
    "collapsed": false,
    "deletable": true,
    "editable": true
   },
   "outputs": [
    {
     "data": {
      "text/plain": [
       "[0, 1, 2, 3, 4, 5, 6, 7, 8, 9]"
      ]
     },
     "execution_count": 50,
     "metadata": {},
     "output_type": "execute_result"
    }
   ],
   "source": [
    "li.pop(4) # pop item at indexx x, not value x\n",
    "li"
   ]
  },
  {
   "cell_type": "code",
   "execution_count": 51,
   "metadata": {
    "collapsed": false,
    "deletable": true,
    "editable": true
   },
   "outputs": [
    {
     "data": {
      "text/plain": [
       "[0, 1, 2, 3, 4, 5, 6, 7, 9]"
      ]
     },
     "execution_count": 51,
     "metadata": {},
     "output_type": "execute_result"
    }
   ],
   "source": [
    "li.remove(8) # remove the first value x\n",
    "li"
   ]
  },
  {
   "cell_type": "code",
   "execution_count": 52,
   "metadata": {
    "collapsed": false,
    "deletable": true,
    "editable": true
   },
   "outputs": [
    {
     "data": {
      "text/plain": [
       "[9, 7, 6, 5, 4, 3, 2, 1, 0]"
      ]
     },
     "execution_count": 52,
     "metadata": {},
     "output_type": "execute_result"
    }
   ],
   "source": [
    "li.reverse() # do reverse in place\n",
    "li"
   ]
  },
  {
   "cell_type": "markdown",
   "metadata": {
    "deletable": true,
    "editable": true
   },
   "source": [
    "### Text Sequence Type\n",
    "``str``: Strings are immutable sequences of **Unicode** code points."
   ]
  },
  {
   "cell_type": "code",
   "execution_count": 53,
   "metadata": {
    "collapsed": false,
    "deletable": true,
    "editable": true
   },
   "outputs": [
    {
     "name": "stdout",
     "output_type": "stream",
     "text": [
      "<class 'str'>\n",
      "17\n"
     ]
    }
   ],
   "source": [
    "s = \"This is a string.\"\n",
    "print(type(s))\n",
    "print(len(s))"
   ]
  },
  {
   "cell_type": "code",
   "execution_count": 54,
   "metadata": {
    "collapsed": false,
    "deletable": true,
    "editable": true
   },
   "outputs": [
    {
     "name": "stdout",
     "output_type": "stream",
     "text": [
      "True\n",
      "False\n",
      "2\n"
     ]
    }
   ],
   "source": [
    "# return T/F\n",
    "print(s.startswith(\"T\"))\n",
    "print(s.endswith(\"!\"))\n",
    "print(s.find(\"is\")) # Return the lowest index in the string where substring is found; Return -1 if not found."
   ]
  },
  {
   "cell_type": "code",
   "execution_count": 55,
   "metadata": {
    "collapsed": false,
    "deletable": true,
    "editable": true
   },
   "outputs": [
    {
     "data": {
      "text/plain": [
       "'abcd'"
      ]
     },
     "execution_count": 55,
     "metadata": {},
     "output_type": "execute_result"
    }
   ],
   "source": [
    "iterable = ['a', 'b', 'c', 'd']\n",
    "empty_str = \"\"\n",
    "empty_str.join(iterable) # Return a string which is the concatenation of the strings in iterable"
   ]
  },
  {
   "cell_type": "code",
   "execution_count": 56,
   "metadata": {
    "collapsed": false,
    "deletable": true,
    "editable": true
   },
   "outputs": [
    {
     "data": {
      "text/plain": [
       "'abcd'"
      ]
     },
     "execution_count": 56,
     "metadata": {},
     "output_type": "execute_result"
    }
   ],
   "source": [
    "\"\".join(iterable)"
   ]
  },
  {
   "cell_type": "code",
   "execution_count": 57,
   "metadata": {
    "collapsed": false,
    "deletable": true,
    "editable": true
   },
   "outputs": [
    {
     "name": "stdout",
     "output_type": "stream",
     "text": [
      "['This', 'is', 'a', 'book']\n"
     ]
    }
   ],
   "source": [
    "s = \"This is a book\"\n",
    "tokens = s.split(\" \")\n",
    "print(tokens)"
   ]
  },
  {
   "cell_type": "code",
   "execution_count": 58,
   "metadata": {
    "collapsed": false,
    "deletable": true,
    "editable": true
   },
   "outputs": [
    {
     "data": {
      "text/plain": [
       "'This is a book.'"
      ]
     },
     "execution_count": 58,
     "metadata": {},
     "output_type": "execute_result"
    }
   ],
   "source": [
    "s = \"This is a book\"\n",
    "s += '.' # but string has no append() or extend()\n",
    "s"
   ]
  },
  {
   "cell_type": "markdown",
   "metadata": {
    "deletable": true,
    "editable": true
   },
   "source": [
    "### String Formatting\n",
    "https://docs.python.org/3.6/library/stdtypes.html#printf-style-string-formatting"
   ]
  },
  {
   "cell_type": "code",
   "execution_count": 59,
   "metadata": {
    "collapsed": false,
    "deletable": true,
    "editable": true
   },
   "outputs": [
    {
     "name": "stdout",
     "output_type": "stream",
     "text": [
      "a b c 3.1\n",
      "Coordinates: 37.24N, -115.81W\n",
      "X: 3.1;  Y: 5.2\n",
      "int: 42;  hex: 2a;  oct: 52;  bin: 101010\n",
      "1,234,567,890\n",
      "Correct answers: 59.62%\n"
     ]
    }
   ],
   "source": [
    "coord = (3.1, 5.2)\n",
    "\n",
    "print(\"a b c {0}\".format(coord[0]))\n",
    "print(\"Coordinates: {latitude}, {longitude}\".format(latitude='37.24N', longitude='-115.81W'))\n",
    "print(\"X: {0[0]};  Y: {0[1]}\".format(coord))\n",
    "print(\"int: {0:d};  hex: {0:x};  oct: {0:o};  bin: {0:b}\".format(42))\n",
    "print('{:,}'.format(1234567890))\n",
    "print('Correct answers: {:.2%}'.format(coord[0]/coord[1]))"
   ]
  },
  {
   "cell_type": "code",
   "execution_count": 60,
   "metadata": {
    "collapsed": false,
    "deletable": true,
    "editable": true
   },
   "outputs": [
    {
     "name": "stdout",
     "output_type": "stream",
     "text": [
      "a b c 1\n",
      "Coordinates: 37.24N, -115.81W\n",
      "X: 3.1  Y: 5.2\n",
      "int: 42 hex: 0x2a oct: 0o52 bin: 0b101010\n"
     ]
    }
   ],
   "source": [
    "coord = (3.1, 5.2)\n",
    "\n",
    "print(\"a b c\", tp[0])\n",
    "print(\"Coordinates: \" \"37.24N, \" \"-115.81W\")\n",
    "print(\"X:\", coord[0], \" Y:\", coord[1])\n",
    "print(\"int:\", int(42), \"hex:\", hex(42), \"oct:\", oct(42), \"bin:\", bin(42))"
   ]
  },
  {
   "cell_type": "code",
   "execution_count": 61,
   "metadata": {
    "collapsed": false,
    "deletable": true,
    "editable": true
   },
   "outputs": [
    {
     "name": "stdout",
     "output_type": "stream",
     "text": [
      "a b c 3.100000\n",
      "Coordinates: 37.24N, -115.81W\n",
      "X: 3.100000; Y: 5.200000\n",
      "int: 42;  hex: 2a;  oct: 52;\n",
      "Correct answers: 59.62%\n"
     ]
    }
   ],
   "source": [
    "coord = (3.1, 5.2)\n",
    "\n",
    "print(\"a b c %f\" % coord[0])\n",
    "print(\"Coordinates: %s, %s\" % ('37.24N', '-115.81W'))\n",
    "print(\"X: %f; Y: %f\" % coord)\n",
    "print(\"int: %d;  hex: %x;  oct: %o;\" % (42, 42, 42))\n",
    "print('Correct answers: %.2f%%' % (100*coord[0]/coord[1]))"
   ]
  },
  {
   "cell_type": "markdown",
   "metadata": {
    "deletable": true,
    "editable": true
   },
   "source": [
    "### Bytes\n",
    "``bytes``: ordered, mutable, byte"
   ]
  },
  {
   "cell_type": "code",
   "execution_count": 62,
   "metadata": {
    "collapsed": false,
    "deletable": true,
    "editable": true
   },
   "outputs": [
    {
     "name": "stdout",
     "output_type": "stream",
     "text": [
      "False\n",
      "<class 'str'> 15\n",
      "<class 'bytes'> 15\n"
     ]
    }
   ],
   "source": [
    "s = 'This is a book.'\n",
    "b = b'This is a book.'\n",
    "\n",
    "print(s == b)\n",
    "print(type(s), len(s))\n",
    "print(type(b), len(b))"
   ]
  },
  {
   "cell_type": "code",
   "execution_count": 63,
   "metadata": {
    "collapsed": false,
    "deletable": true,
    "editable": true
   },
   "outputs": [
    {
     "name": "stdout",
     "output_type": "stream",
     "text": [
      "<class 'str'> 6\n",
      "<class 'bytes'> 15\n"
     ]
    }
   ],
   "source": [
    "s = '這是一本書。'\n",
    "b = b'This is a book.'\n",
    "\n",
    "print(type(s), len(s))\n",
    "print(type(b), len(b))"
   ]
  },
  {
   "cell_type": "code",
   "execution_count": 64,
   "metadata": {
    "collapsed": false,
    "deletable": true,
    "editable": true
   },
   "outputs": [
    {
     "name": "stdout",
     "output_type": "stream",
     "text": [
      "<class 'bytes'> b'\\xe9\\x80\\x99\\xe6\\x98\\xaf\\xe4\\xb8\\x80\\xe6\\x9c\\xac\\xe6\\x9b\\xb8\\xe3\\x80\\x82'\n",
      "<class 'str'> This is a book.\n"
     ]
    }
   ],
   "source": [
    "s_to_b = s.encode(encoding = \"utf-8\")\n",
    "b_to_s = b.decode(encoding = \"utf-8\")\n",
    "\n",
    "print(type(s_to_b), s_to_b)\n",
    "print(type(b_to_s), b_to_s)"
   ]
  },
  {
   "cell_type": "markdown",
   "metadata": {
    "deletable": true,
    "editable": true
   },
   "source": [
    "### Set Types\n",
    "``set``:  unique, inorder, mutable, {item1, item2, ...}\n",
    "\n",
    "``frozenset``:  unique, inorder, immutable"
   ]
  },
  {
   "cell_type": "code",
   "execution_count": 65,
   "metadata": {
    "collapsed": false,
    "deletable": true,
    "editable": true
   },
   "outputs": [
    {
     "name": "stdout",
     "output_type": "stream",
     "text": [
      "<class 'set'>\n",
      "{'this'}\n",
      "{'this', 'a', 'book', 'is'}\n",
      "4\n",
      "True\n",
      "this {'a', 'book', 'is'} 3\n",
      "{'book', 'is'}\n",
      "set()\n"
     ]
    }
   ],
   "source": [
    "s = set()\n",
    "print(type(s))\n",
    "s.add(\"this\")\n",
    "print(s)\n",
    "s.add(\"is\")\n",
    "s.add(\"a\")\n",
    "s.add(\"book\")\n",
    "print(s)\n",
    "print(len(s))\n",
    "print(\"is\" in s)\n",
    "\n",
    "item = s.pop() #\n",
    "print(item, s, len(s))\n",
    "s.remove(\"a\")\n",
    "print(s)\n",
    "s.clear()\n",
    "print(s)"
   ]
  },
  {
   "cell_type": "code",
   "execution_count": 66,
   "metadata": {
    "collapsed": false,
    "deletable": true,
    "editable": true
   },
   "outputs": [
    {
     "name": "stdout",
     "output_type": "stream",
     "text": [
      "{1, 2, 3, 4, 5, 6}\n",
      "{0, 1, 2, 3, 4, 5, 6, 7, 8, 9}\n"
     ]
    }
   ],
   "source": [
    "s = {1, 2, 2, 3, 4, 5, 6}\n",
    "print(s)\n",
    "\n",
    "s = set(range(10))\n",
    "print(s)\n",
    "\n",
    "# note that set has no index\n",
    "# set[0] causes an error"
   ]
  },
  {
   "cell_type": "code",
   "execution_count": 67,
   "metadata": {
    "collapsed": false,
    "deletable": true,
    "editable": true
   },
   "outputs": [
    {
     "name": "stdout",
     "output_type": "stream",
     "text": [
      "{1, 2, 3, 4, 5, 6, 7, 8, 9}\n",
      "{4, 5, 6}\n",
      "{8, 9, 7}\n",
      "{1, 2, 3, 7, 8, 9}\n"
     ]
    }
   ],
   "source": [
    "s = {1, 2, 3, 4, 5, 6}\n",
    "t = {4, 5, 6, 7, 8, 9}\n",
    "\n",
    "a = t | s # union\n",
    "b = t & s # intersection\n",
    "c = t - s # difference\n",
    "d = t ^ s # symmetric_difference\n",
    "\n",
    "print(a)\n",
    "print(b)\n",
    "print(c)\n",
    "print(d)"
   ]
  },
  {
   "cell_type": "code",
   "execution_count": 68,
   "metadata": {
    "collapsed": false,
    "deletable": true,
    "editable": true
   },
   "outputs": [
    {
     "name": "stdout",
     "output_type": "stream",
     "text": [
      "{1, 2, 3, 4, 5, 6}\n",
      "{5, 6, 7, 8, 9, 10}\n",
      "{5, 6}\n",
      "{1, 2, 3, 4, 5, 6, 7, 8, 9, 10}\n",
      "Jaccard simialarity =  0.2\n"
     ]
    }
   ],
   "source": [
    "s1 = set([1,2,3,4,5,6])\n",
    "s2 = set([5,6,7,8,9,10])\n",
    "\n",
    "print(s1)\n",
    "print(s2)\n",
    "\n",
    "inter = s1.intersection(s2) # s1 & s2\n",
    "union = s1.union(s2) # s1 | s2\n",
    "\n",
    "print(inter)\n",
    "print(union)\n",
    "\n",
    "print(\"Jaccard simialarity = \", len(inter)/len(union))"
   ]
  },
  {
   "cell_type": "markdown",
   "metadata": {
    "deletable": true,
    "editable": true
   },
   "source": [
    "### Mapping Types\n",
    "``dict``: mutable, unique key, {key1: value1, key2: value2, ...}"
   ]
  },
  {
   "cell_type": "code",
   "execution_count": 69,
   "metadata": {
    "collapsed": false,
    "deletable": true,
    "editable": true
   },
   "outputs": [
    {
     "name": "stdout",
     "output_type": "stream",
     "text": [
      "{'one': 1, 'two': 2, 'three': 3}\n",
      "3\n",
      "True\n"
     ]
    }
   ],
   "source": [
    "a = dict(one=1, two=2, three=3)\n",
    "b = {'one': 1, 'two': 2, 'three': 3} # most often\n",
    "c = dict(zip(['one', 'two', 'three'], [1, 2, 3]))\n",
    "d = dict([('two', 2), ('one', 1), ('three', 3)])\n",
    "e = dict({'three': 3, 'one': 1, 'two': 2})\n",
    "print(a)\n",
    "print(len(a))\n",
    "print(a == b == c == d == e)"
   ]
  },
  {
   "cell_type": "code",
   "execution_count": 70,
   "metadata": {
    "collapsed": false,
    "deletable": true,
    "editable": true
   },
   "outputs": [
    {
     "name": "stdout",
     "output_type": "stream",
     "text": [
      "{'one': 1, 'two': 2, 'three': 3, 'four': 4}\n",
      "{'one': 1, 'three': 3, 'four': 4}\n",
      "True\n",
      "dict_keys(['one', 'three', 'four'])\n",
      "dict_values([1, 3, 4])\n"
     ]
    }
   ],
   "source": [
    "d = {'one': 1, 'two': 2, 'three': 3}\n",
    "d['four'] = 4 # add by key and value\n",
    "print(d)\n",
    "del d['two'] # use key to delete\n",
    "print(d)\n",
    "print('one' in d) # search by key\n",
    "print(d.keys())\n",
    "print(d.values())"
   ]
  },
  {
   "cell_type": "code",
   "execution_count": 71,
   "metadata": {
    "collapsed": false,
    "deletable": true,
    "editable": true
   },
   "outputs": [
    {
     "name": "stdout",
     "output_type": "stream",
     "text": [
      "one 1\n",
      "two 2\n",
      "three 3\n"
     ]
    }
   ],
   "source": [
    "b = {'one': 1, 'two': 2, 'three': 3}\n",
    "\n",
    "for key, value in b.items():\n",
    "    print(key, value)"
   ]
  },
  {
   "cell_type": "code",
   "execution_count": 72,
   "metadata": {
    "collapsed": false,
    "deletable": true,
    "editable": true
   },
   "outputs": [
    {
     "name": "stdout",
     "output_type": "stream",
     "text": [
      "one 1\n",
      "two 2\n",
      "three 3\n"
     ]
    }
   ],
   "source": [
    "b = {'one': 1, 'two': 2, 'three': 3}\n",
    "\n",
    "for key in b:\n",
    "    print(key, b[key])"
   ]
  },
  {
   "cell_type": "markdown",
   "metadata": {
    "deletable": true,
    "editable": true
   },
   "source": [
    "### Customized Complex Types"
   ]
  },
  {
   "cell_type": "code",
   "execution_count": 73,
   "metadata": {
    "collapsed": false,
    "deletable": true,
    "editable": true
   },
   "outputs": [
    {
     "name": "stdout",
     "output_type": "stream",
     "text": [
      "[[1, 2, 3], (4, 5, 6), 'strstr', {'apple': 1, 'orange': [1, 2, 3, 4], 'egg': 'ugly', 'log': (12.3, 4.56)}]\n"
     ]
    }
   ],
   "source": [
    "my_dict = {'apple': 1, 'orange': [1, 2, 3, 4], 'egg': \"ugly\", 'log': (12.3, 4.56)}\n",
    "my_list = [[1,2,3], (4,5,6), \"strstr\", my_dict]\n",
    "\n",
    "print(my_list)"
   ]
  },
  {
   "cell_type": "markdown",
   "metadata": {
    "deletable": true,
    "editable": true
   },
   "source": [
    "### Comprehensions"
   ]
  },
  {
   "cell_type": "code",
   "execution_count": 74,
   "metadata": {
    "collapsed": false,
    "deletable": true,
    "editable": true
   },
   "outputs": [
    {
     "name": "stdout",
     "output_type": "stream",
     "text": [
      "[2, 4, 6, 8]\n"
     ]
    }
   ],
   "source": [
    "evens = []\n",
    "for x in range(1, 5):\n",
    "    evens.append(x*2)\n",
    "    \n",
    "print(evens)"
   ]
  },
  {
   "cell_type": "code",
   "execution_count": 75,
   "metadata": {
    "collapsed": false,
    "deletable": true,
    "editable": true
   },
   "outputs": [
    {
     "name": "stdout",
     "output_type": "stream",
     "text": [
      "[[1, 2, 3, 4], [1, 2, 3, 4]]\n",
      "[[1, 2, 3, 4, 1, 2, 3, 4]]\n",
      "[2, 4, 6, 8]\n",
      "[2, 4, 6, 8]\n",
      "[<map object at 0x000001FB91DED198>]\n"
     ]
    }
   ],
   "source": [
    "a = [1, 2, 3, 4]\n",
    "\n",
    "# what if I need [2, 4, 6, 8]\n",
    "b0 = [a]*2\n",
    "b1 = [a*2]\n",
    "b2 = [i*2 for i in a]\n",
    "b3 = list(map(lambda x: x*2, a))\n",
    "b4 = [map(lambda x: x*2, a)]\n",
    "\n",
    "print(b0)\n",
    "print(b1)\n",
    "print(b2)\n",
    "print(b3)\n",
    "print(b4)"
   ]
  },
  {
   "cell_type": "code",
   "execution_count": 76,
   "metadata": {
    "collapsed": false,
    "deletable": true,
    "editable": true
   },
   "outputs": [
    {
     "name": "stdout",
     "output_type": "stream",
     "text": [
      "[0, 1, 4, 9, 16, 25, 36, 49, 64, 81]\n"
     ]
    }
   ],
   "source": [
    "squares = list(map(lambda x: x**2, range(10)))\n",
    "print(squares)"
   ]
  },
  {
   "cell_type": "code",
   "execution_count": 77,
   "metadata": {
    "collapsed": false,
    "deletable": true,
    "editable": true
   },
   "outputs": [
    {
     "name": "stdout",
     "output_type": "stream",
     "text": [
      "[-8, -4, 0, 4, 8]\n",
      "[0, 2, 4]\n",
      "[4, 2, 0, 2, 4]\n"
     ]
    }
   ],
   "source": [
    "vec = [-4, -2, 0, 2, 4]\n",
    "print([x*2 for x in vec])\n",
    "print([x for x in vec if x >= 0])\n",
    "print([abs(x) for x in vec])"
   ]
  },
  {
   "cell_type": "code",
   "execution_count": 78,
   "metadata": {
    "collapsed": false,
    "deletable": true,
    "editable": true
   },
   "outputs": [
    {
     "name": "stdout",
     "output_type": "stream",
     "text": [
      "[1, 2, 3, 4, 5, 6, 7, 8, 9]\n"
     ]
    }
   ],
   "source": [
    "vec = [[1,2,3], [4,5,6], [7,8,9]]\n",
    "print([num for elem in vec for num in elem])"
   ]
  },
  {
   "cell_type": "code",
   "execution_count": 79,
   "metadata": {
    "collapsed": false,
    "deletable": true,
    "editable": true
   },
   "outputs": [
    {
     "name": "stdout",
     "output_type": "stream",
     "text": [
      "{'r', 'd'}\n"
     ]
    }
   ],
   "source": [
    "# dict comprehensions\n",
    "print({x for x in 'abracadabra' if x not in 'abc'})"
   ]
  }
 ],
 "metadata": {
  "kernelspec": {
   "display_name": "Python 3",
   "language": "python",
   "name": "python3"
  },
  "language_info": {
   "codemirror_mode": {
    "name": "ipython",
    "version": 3
   },
   "file_extension": ".py",
   "mimetype": "text/x-python",
   "name": "python",
   "nbconvert_exporter": "python",
   "pygments_lexer": "ipython3",
   "version": "3.6.0"
  }
 },
 "nbformat": 4,
 "nbformat_minor": 2
}
