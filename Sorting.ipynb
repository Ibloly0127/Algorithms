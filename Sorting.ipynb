{
 "cells": [
  {
   "cell_type": "markdown",
   "metadata": {},
   "source": [
    "## Sorting"
   ]
  },
  {
   "cell_type": "markdown",
   "metadata": {},
   "source": [
    "### swap"
   ]
  },
  {
   "cell_type": "code",
   "execution_count": 1,
   "metadata": {},
   "outputs": [],
   "source": [
    "def swap(li, i, j):\n",
    "    \"\"\"\n",
    "    Exchange the ith item and jth item in list li\n",
    "    \"\"\"\n",
    "    \n",
    "    tmp = li[i]\n",
    "    li[i] = li[j]\n",
    "    li[j] = tmp"
   ]
  },
  {
   "cell_type": "code",
   "execution_count": 2,
   "metadata": {},
   "outputs": [],
   "source": [
    "# python sytle\n",
    "\n",
    "def swapPython(li, i, j):\n",
    "    li[i], li[j] = li[j], li[i]"
   ]
  },
  {
   "cell_type": "markdown",
   "metadata": {},
   "source": [
    "### Selection Sort\n",
    "\n",
    "For each round, select the smallest item and swap it to the correct position."
   ]
  },
  {
   "cell_type": "code",
   "execution_count": 3,
   "metadata": {},
   "outputs": [],
   "source": [
    "def secectionSort(li):\n",
    "    \"\"\"\n",
    "    for each round, find the smallest one and put it at the right place.\n",
    "    \"\"\"\n",
    "    \n",
    "    i = 0 # current position\n",
    "    \n",
    "    while i < len(li): # rounds: 0 ~ len(li)-1\n",
    "        \n",
    "        # find the smallest one starting from the current position\n",
    "        j = i\n",
    "        minIndex = j # = i\n",
    "        while j < len (li):\n",
    "            if li[j] < li[minIndex]: # find smaller one\n",
    "                minIndex = j\n",
    "            j += 1\n",
    "        \n",
    "        # swap the smallest one to the current position\n",
    "        swap(li, minIndex, i)\n",
    "            \n",
    "        # next round\n",
    "        i += 1"
   ]
  },
  {
   "cell_type": "code",
   "execution_count": 4,
   "metadata": {},
   "outputs": [],
   "source": [
    "# Q: best case? worst case? average case?"
   ]
  },
  {
   "cell_type": "code",
   "execution_count": 5,
   "metadata": {},
   "outputs": [],
   "source": [
    "# Of course, you can select the largetest one and swap it.\n",
    "# http://interactivepython.org/runestone/static/pythonds/SortSearch/TheSelectionSort.html\n",
    "def secectionSort2(li):\n",
    "    \"\"\"\n",
    "    for each round, find the largest one and put it at the right place.\n",
    "    \"\"\"\n",
    "\n",
    "    for pos in range(len(li)-1, -1, -1):\n",
    "        maxIndex = pos\n",
    "        for item in range(pos, -1, -1):\n",
    "            if li[item] > li[maxIndex]:\n",
    "                maxIndex = item\n",
    "        swap(li, maxIndex, pos)"
   ]
  },
  {
   "cell_type": "code",
   "execution_count": 6,
   "metadata": {},
   "outputs": [
    {
     "name": "stdout",
     "output_type": "stream",
     "text": [
      "[3, 21, 23, 26, 82, 143, 654, 4123]\n"
     ]
    }
   ],
   "source": [
    "li = [23, 654, 21, 143, 3, 82, 26, 4123]\n",
    "\n",
    "secectionSort(li)\n",
    "print(li)"
   ]
  },
  {
   "cell_type": "code",
   "execution_count": 7,
   "metadata": {},
   "outputs": [
    {
     "name": "stdout",
     "output_type": "stream",
     "text": [
      "[3, 21, 23, 26, 82, 143, 654, 4123]\n"
     ]
    }
   ],
   "source": [
    "li = [23, 654, 21, 143, 3, 82, 4123, 26]\n",
    "\n",
    "secectionSort2(li)\n",
    "print(li)"
   ]
  },
  {
   "cell_type": "markdown",
   "metadata": {},
   "source": [
    "### Ramdom"
   ]
  },
  {
   "cell_type": "code",
   "execution_count": 8,
   "metadata": {},
   "outputs": [
    {
     "name": "stdout",
     "output_type": "stream",
     "text": [
      "0.9176620516100372\n"
     ]
    }
   ],
   "source": [
    "import random\n",
    "# Return the next random floating point number in the range [0.0, 1.0).\n",
    "r = random.random()\n",
    "print(r)"
   ]
  },
  {
   "cell_type": "code",
   "execution_count": 9,
   "metadata": {},
   "outputs": [
    {
     "data": {
      "text/plain": [
       "4.637111592894645"
      ]
     },
     "execution_count": 9,
     "metadata": {},
     "output_type": "execute_result"
    }
   ],
   "source": [
    "random.uniform(2.5, 10.0) # Random float:  2.5 <= x < 10.0"
   ]
  },
  {
   "cell_type": "code",
   "execution_count": 10,
   "metadata": {},
   "outputs": [
    {
     "data": {
      "text/plain": [
       "4"
      ]
     },
     "execution_count": 10,
     "metadata": {},
     "output_type": "execute_result"
    }
   ],
   "source": [
    "random.randrange(10) # Integer from 0 to 9 inclusive"
   ]
  },
  {
   "cell_type": "code",
   "execution_count": 11,
   "metadata": {},
   "outputs": [
    {
     "data": {
      "text/plain": [
       "20"
      ]
     },
     "execution_count": 11,
     "metadata": {},
     "output_type": "execute_result"
    }
   ],
   "source": [
    "random.randrange(0, 101, 2) # Even integer from 0 to 100 inclusive"
   ]
  },
  {
   "cell_type": "code",
   "execution_count": 12,
   "metadata": {},
   "outputs": [
    {
     "data": {
      "text/plain": [
       "'draw'"
      ]
     },
     "execution_count": 12,
     "metadata": {},
     "output_type": "execute_result"
    }
   ],
   "source": [
    "li = ['win', 'lose', 'draw']\n",
    "random.choice(li) # Single random element from a sequence"
   ]
  },
  {
   "cell_type": "code",
   "execution_count": 13,
   "metadata": {},
   "outputs": [
    {
     "data": {
      "text/plain": [
       "['draw', 'lose']"
      ]
     },
     "execution_count": 13,
     "metadata": {},
     "output_type": "execute_result"
    }
   ],
   "source": [
    "li = ['win', 'lose', 'draw']\n",
    "random.choices(li, k = 2)"
   ]
  },
  {
   "cell_type": "code",
   "execution_count": 14,
   "metadata": {},
   "outputs": [
    {
     "data": {
      "text/plain": [
       "[50, 20, 10, 40]"
      ]
     },
     "execution_count": 14,
     "metadata": {},
     "output_type": "execute_result"
    }
   ],
   "source": [
    "li = [10, 20, 30, 40, 50]\n",
    "random.sample(li, k = 4) # Four samples without replacement"
   ]
  },
  {
   "cell_type": "code",
   "execution_count": 15,
   "metadata": {},
   "outputs": [
    {
     "name": "stdout",
     "output_type": "stream",
     "text": [
      "[40, 20, 10, 50, 30]\n"
     ]
    }
   ],
   "source": [
    "li = [10, 20, 30, 40, 50]\n",
    "random.shuffle(li)\n",
    "print(li)"
   ]
  },
  {
   "cell_type": "code",
   "execution_count": 16,
   "metadata": {},
   "outputs": [
    {
     "data": {
      "text/plain": [
       "0.13436424411240122"
      ]
     },
     "execution_count": 16,
     "metadata": {},
     "output_type": "execute_result"
    }
   ],
   "source": [
    "random.seed(1)\n",
    "random.random()"
   ]
  },
  {
   "cell_type": "code",
   "execution_count": 17,
   "metadata": {},
   "outputs": [],
   "source": [
    "# how to generate a list of random numbers?\n",
    "li = [random.randrange(1000) for _ in range(1000)]"
   ]
  },
  {
   "cell_type": "markdown",
   "metadata": {},
   "source": [
    "### Selection Sort 1&2"
   ]
  },
  {
   "cell_type": "code",
   "execution_count": 18,
   "metadata": {},
   "outputs": [
    {
     "name": "stdout",
     "output_type": "stream",
     "text": [
      "85.8 ms ± 582 µs per loop (mean ± std. dev. of 7 runs, 10 loops each)\n"
     ]
    }
   ],
   "source": [
    "%timeit secectionSort(li)"
   ]
  },
  {
   "cell_type": "code",
   "execution_count": 19,
   "metadata": {},
   "outputs": [
    {
     "name": "stdout",
     "output_type": "stream",
     "text": [
      "31.4 ms ± 424 µs per loop (mean ± std. dev. of 7 runs, 10 loops each)\n"
     ]
    }
   ],
   "source": [
    "%timeit secectionSort2(li)"
   ]
  },
  {
   "cell_type": "markdown",
   "metadata": {},
   "source": [
    "### Bubble Sort\n",
    "The worest sorting method XD"
   ]
  },
  {
   "cell_type": "code",
   "execution_count": 20,
   "metadata": {},
   "outputs": [],
   "source": [
    "# for each round (i), put the largest item to the designed place.\n",
    "\n",
    "def bubbleSort(li):\n",
    "    for i in range(len(li)):\n",
    "        for j in range(i):\n",
    "            if li[i] < li[j]: # change to > for descending\n",
    "                li[i], li[j] = li[j], li[i]"
   ]
  },
  {
   "cell_type": "code",
   "execution_count": 21,
   "metadata": {},
   "outputs": [
    {
     "name": "stdout",
     "output_type": "stream",
     "text": [
      "[3, 21, 23, 26, 82, 143, 654, 4123]\n"
     ]
    }
   ],
   "source": [
    "li = [23, 654, 21, 143, 3, 82, 4123, 26]\n",
    "\n",
    "bubbleSort(li)\n",
    "print(li)"
   ]
  },
  {
   "cell_type": "code",
   "execution_count": 22,
   "metadata": {},
   "outputs": [],
   "source": [
    "# http://interactivepython.org/runestone/static/pythonds/SortSearch/TheBubbleSort.html"
   ]
  },
  {
   "cell_type": "markdown",
   "metadata": {},
   "source": [
    "### Insertion Sort\n",
    "\n",
    "For each round, get next item and insert it into sorted list."
   ]
  },
  {
   "cell_type": "code",
   "execution_count": 23,
   "metadata": {},
   "outputs": [],
   "source": [
    "def insertionSort(li):\n",
    "    for sortedIndex in range(1, len(li) - 1):\n",
    "        targetIndex = sortedIndex + 1\n",
    "        for i in range(0, sortedIndex + 1):\n",
    "            if li[targetIndex] > li[i]:\n",
    "                pass\n",
    "            else:\n",
    "                swapPython(li, i, targetIndex)"
   ]
  },
  {
   "cell_type": "code",
   "execution_count": 24,
   "metadata": {},
   "outputs": [
    {
     "name": "stdout",
     "output_type": "stream",
     "text": [
      "[3, 21, 23, 26, 82, 143, 654, 4123]\n"
     ]
    }
   ],
   "source": [
    "li = [23, 654, 21, 143, 3, 82, 4123, 26]\n",
    "\n",
    "insertionSort(li)\n",
    "print(li)"
   ]
  },
  {
   "cell_type": "code",
   "execution_count": 25,
   "metadata": {},
   "outputs": [],
   "source": [
    "# http://interactivepython.org/runestone/static/pythonds/SortSearch/TheInsertionSort.html"
   ]
  },
  {
   "cell_type": "markdown",
   "metadata": {},
   "source": [
    "### Even quicker sorting methods\n",
    "\n",
    "So far, we introduce 3 sorting algorithms (selection, bubble, insertion) that all have $O(n^2)$ time complexity. Of course, there are several variants that can improve the efficiency. However, the worst cases are still $O(n^2)$.\n",
    "\n",
    "We now introduce two sorting algorithms (quick, merge) that are $O(n log n)$. They adopt the strategy of **divide-and-conquer**, which means they can divide the list into smaller sub-lists, sort the sub-lists and then combine the sorted sub-lists. If the complexity of sorting the sub-lists is $n$ and the complexity of dealing with the sub-lists is $log n$, then the entire complexity is $n log n$.\n",
    "\n",
    "There is anothter sorting algorithm (heapsort) that will be introduced later."
   ]
  },
  {
   "cell_type": "code",
   "execution_count": 26,
   "metadata": {},
   "outputs": [
    {
     "data": {
      "image/png": "[encoded data removed]",
      "text/plain": [
       "<matplotlib.figure.Figure at 0x225e5079860>"
      ]
     },
     "metadata": {},
     "output_type": "display_data"
    }
   ],
   "source": [
    "import numpy as np\n",
    "import matplotlib.pyplot as plt\n",
    "%matplotlib inline\n",
    "\n",
    "x = np.linspace(0.000001, 32768.0, 100)\n",
    "\n",
    "quasilinear = x * np.log(x)\n",
    "quadratic = np.power(x, 2)\n",
    "\n",
    "plt.plot(x, quasilinear, label='Quasilinear, n log n')\n",
    "plt.plot(x, quadratic, label='Quadratic, n^2')\n",
    "\n",
    "plt.legend()\n",
    "plt.xlabel('x')\n",
    "plt.ylabel('y')\n",
    "\n",
    "plt.show()"
   ]
  },
  {
   "cell_type": "markdown",
   "metadata": {},
   "source": [
    "### Quick Sort\n",
    "http://interactivepython.org/runestone/static/pythonds/SortSearch/TheQuickSort.html\n",
    "\n",
    "Select a pivot.\n",
    "Move items less than Pivot to its left; move items larger than Pivot to its right.\n",
    "\n",
    "Note that the above URL shows another version of Quick Sort implementation.\n",
    "\n",
    "In: [23, 654, 21, 143, 3, 82, 4123, 26]\n",
    "\n",
    "Pivot: 143\n",
    "\n",
    "Ot: [23, 26, 21, 82, 3, 143, 4123, 654]"
   ]
  },
  {
   "cell_type": "code",
   "execution_count": 27,
   "metadata": {},
   "outputs": [],
   "source": [
    "def quickSort(li):\n",
    "    quickSortHelper(li, 0, len(li) -1)\n",
    "    \n",
    "def quickSortHelper(li, left, right):\n",
    "    if left < right:\n",
    "        pivot = partition_2(li, left, right)\n",
    "        quickSortHelper(li, left, pivot - 1)\n",
    "        quickSortHelper(li, pivot + 1, right)\n",
    "\n",
    "def partition_2(li, left, right):\n",
    "    # find the pivot and exchange it with the last (right) item\n",
    "    mid = (left + right) // 2\n",
    "    pivot = li[mid]\n",
    "    li[mid], li[right] = li[right], li[mid] # swap\n",
    "    print(pivot)\n",
    "    print(li)\n",
    "    \n",
    "    # set boundary point to the fisrt (left) item\n",
    "    # boundary keeps moving to the middle of the list\n",
    "    # items at the left of the boundary are less than pivot\n",
    "    # KEEP TRACKING boundary!\n",
    "    boundary = left\n",
    "    \n",
    "    # move items less than pivot to the left\n",
    "    for i in range(left, right):\n",
    "        if li[i] < pivot:\n",
    "            li[i], li[boundary] = li[boundary], li[i]\n",
    "            boundary += 1\n",
    "            print(li, boundary)\n",
    "    \n",
    "    # exchange pivot and boundary\n",
    "    li[right], li[boundary] = li[boundary], li[right]\n",
    "    \n",
    "    return boundary"
   ]
  },
  {
   "cell_type": "code",
   "execution_count": 28,
   "metadata": {},
   "outputs": [
    {
     "name": "stdout",
     "output_type": "stream",
     "text": [
      "[23, 654, 21, 143, 3, 82, 4123, 26]\n",
      "143\n",
      "[23, 654, 21, 26, 3, 82, 4123, 143]\n",
      "[23, 654, 21, 26, 3, 82, 4123, 143] 1\n",
      "[23, 21, 654, 26, 3, 82, 4123, 143] 2\n",
      "[23, 21, 26, 654, 3, 82, 4123, 143] 3\n",
      "[23, 21, 26, 3, 654, 82, 4123, 143] 4\n",
      "[23, 21, 26, 3, 82, 654, 4123, 143] 5\n",
      "26\n",
      "[23, 21, 82, 3, 26, 143, 4123, 654]\n",
      "[23, 21, 82, 3, 26, 143, 4123, 654] 1\n",
      "[23, 21, 82, 3, 26, 143, 4123, 654] 2\n",
      "[23, 21, 3, 82, 26, 143, 4123, 654] 3\n",
      "21\n",
      "[23, 3, 21, 26, 82, 143, 4123, 654]\n",
      "[3, 23, 21, 26, 82, 143, 4123, 654] 1\n",
      "4123\n",
      "[3, 21, 23, 26, 82, 143, 654, 4123]\n",
      "[3, 21, 23, 26, 82, 143, 654, 4123] 7\n",
      "[3, 21, 23, 26, 82, 143, 654, 4123]\n"
     ]
    }
   ],
   "source": [
    "li = [23, 654, 21, 143, 3, 82, 4123, 26]\n",
    "\n",
    "print(li)\n",
    "quickSort(li)\n",
    "print(li)"
   ]
  },
  {
   "cell_type": "markdown",
   "metadata": {},
   "source": [
    "### Merge Sort\n",
    "http://interactivepython.org/runestone/static/pythonds/SortSearch/TheMergeSort.html\n",
    "\n",
    "Divide and Conquer:\n",
    "\n",
    "1) Find a mid\n",
    "2) mergesort(left)\n",
    "3) mergesort(right)\n",
    "4) merge two parts with two pointers with additional spaces"
   ]
  },
  {
   "cell_type": "code",
   "execution_count": 29,
   "metadata": {},
   "outputs": [],
   "source": [
    "def mergeSort(li):\n",
    "\n",
    "    if len(li) > 1:\n",
    "        mid = len(li) // 2\n",
    "        lefthalf = li[:mid] # note: in python it's deep copy\n",
    "        righthalf = li[mid:] # note: in python it's deep copy\n",
    "\n",
    "        mergeSort(lefthalf)\n",
    "        mergeSort(righthalf)\n",
    "        \n",
    "        # now we have two sorted lists to be merged!\n",
    "        i = 0 # index for lefthalf\n",
    "        j = 0 # index for righthalf\n",
    "        k = 0 # index for li\n",
    "        \n",
    "        # i and j are both in the middle of lefthalf and righthalf, respectively\n",
    "        while i < len(lefthalf) and j < len(righthalf):\n",
    "            if lefthalf[i] < righthalf[j]:\n",
    "                li[k] = lefthalf[i]\n",
    "                i += 1\n",
    "            else:\n",
    "                li[k] = righthalf[j]\n",
    "                j += 1\n",
    "            k += 1\n",
    "\n",
    "        # oops, righthalf is done; then we concatnate the rest of lefthalf to the end of li\n",
    "        while i < len(lefthalf):\n",
    "            li[k] = lefthalf[i]\n",
    "            i += 1\n",
    "            k += 1\n",
    "\n",
    "        # oops, lefthalf is done; then we concatnate the rest of righthalf to the li\n",
    "        while j < len(righthalf):\n",
    "            li[k] = righthalf[j]\n",
    "            j += 1\n",
    "            k += 1"
   ]
  },
  {
   "cell_type": "code",
   "execution_count": 30,
   "metadata": {},
   "outputs": [
    {
     "name": "stdout",
     "output_type": "stream",
     "text": [
      "[17, 20, 26, 31, 44, 54, 55, 77, 93]\n"
     ]
    }
   ],
   "source": [
    "li = [54, 26, 93, 17, 77, 31, 44, 55, 20]\n",
    "mergeSort(li)\n",
    "print(li)"
   ]
  },
  {
   "cell_type": "code",
   "execution_count": 31,
   "metadata": {},
   "outputs": [],
   "source": [
    "# Mergesort needs more space to store lefthalf and righthalf."
   ]
  },
  {
   "cell_type": "markdown",
   "metadata": {},
   "source": [
    "### Class Sorted List"
   ]
  },
  {
   "cell_type": "code",
   "execution_count": 32,
   "metadata": {},
   "outputs": [],
   "source": [
    "class SortedList:\n",
    "    # variables\n",
    "    li = None\n",
    "    length = None\n",
    "    \n",
    "    # functions\n",
    "    def __init__(self, data = None):\n",
    "        if data == None:\n",
    "            self.li = list()\n",
    "            self.length = 0\n",
    "        else:\n",
    "            self.li = sorted(data)\n",
    "            self.length = len(self.li)\n",
    "            \n",
    "    def __len__(self):\n",
    "        return self.length\n",
    "    \n",
    "    def __str__(self):\n",
    "        return str(self.li)\n",
    "    \n",
    "    def __binarySearchIndex(self, target):\n",
    "        left = 0\n",
    "        right = self.length - 1\n",
    "        \n",
    "        while left <= right:\n",
    "            mid = (left + right) // 2\n",
    "            \n",
    "            if target == self.li[mid]:\n",
    "                return mid\n",
    "            elif target < self.li[mid]:\n",
    "                right = mid - 1\n",
    "            else:\n",
    "                left = mid + 1\n",
    "        # not found\n",
    "        return left\n",
    "        \n",
    "    def add(self, newItem):\n",
    "        index = self.__binarySearchIndex(newItem)\n",
    "        self.li.insert(index, newItem)\n",
    "        self.length += 1\n",
    "        \n",
    "    def clear(self):\n",
    "        self.li.clear()\n",
    "        self.length = 0\n",
    "    \n",
    "    def remove(self, item):\n",
    "        # how to quickly find the item to be removed?\n",
    "        pass"
   ]
  },
  {
   "cell_type": "code",
   "execution_count": 33,
   "metadata": {},
   "outputs": [],
   "source": [
    "sl = SortedList()"
   ]
  },
  {
   "cell_type": "code",
   "execution_count": 34,
   "metadata": {},
   "outputs": [
    {
     "name": "stdout",
     "output_type": "stream",
     "text": [
      "[4]\n"
     ]
    }
   ],
   "source": [
    "sl.add(4)\n",
    "print(sl)"
   ]
  },
  {
   "cell_type": "markdown",
   "metadata": {},
   "source": [
    "### Divide and Conquer\n",
    "\n",
    "See \"Introduction to Algorithms: A Creative Approach\" by Udi Manber\n",
    "\n",
    "In a divide-and-conquer algorithm, the problem is divided into smaller sub-problems, each sub-problems is sovled recursively, and a *combine* algorithm is used to solve the original problem. Assume that there are $a$ sub-problem, each of size $1/b$ of the original problrm, anf that the algorithm used to combine the solutions of the sub-problems runs in time $c*n^k$, for some constants $a$, $b$, $c$, and $k$. The running time $T(n)$ of the algorithmt thus satisfies\n",
    "\n",
    "$T(n) = a*T(n/b) + c*n^k$"
   ]
  },
  {
   "cell_type": "markdown",
   "metadata": {},
   "source": [
    "We assume, for simplicity, that $n = b^m$, so that $n/b$ is always an integer ($b$ is an integer greater than 1). Then\n",
    "\n",
    "$T(n) = a*(a*T(n/b^2) + c*(n/b)^k) + c*n^k$ \n",
    "\n",
    "$T(n) = a(a(a*T(n/b^3) + c*(n/b^2)^k) + c*(n/b)^k) + c*n^k$\n",
    "\n",
    "In general, if we expand all the way to $n/b^m = 1$, we get\n",
    "\n",
    "$T(n) = a(a(\\dots*T(n/b^m) + c*(n/b^{m-1})^k) + \\dots ) + c*n^k$\n",
    "\n",
    "Let's assume that $T(1) = c$, then\n",
    "\n",
    "$T(n) = c*a^m + c*a^{m-1} b^k + c*a^{m-2}b^{2k} + \\dots + c*b^{mk}$\n",
    "\n",
    "$T(n) = c\\sum_{i=0}^{m} a^{m-i}*b^{ik} = c*a^m\\sum_{i=0}^{m}(\\frac{b^k}{a})^i$"
   ]
  },
  {
   "cell_type": "markdown",
   "metadata": {},
   "source": [
    "Case 1: $a > b^k$\n",
    "\n",
    "In this case, the geometric series converges to a constant even if $m$ goes to infinity. Therefore, $T(n) = O(a^m)$. Since $m = log_bn$, we get $a^m = a^{log_bn} = n^{log_ba}$. Thus\n",
    "\n",
    "$T(n) = O(n^{log_ba})$"
   ]
  },
  {
   "cell_type": "markdown",
   "metadata": {},
   "source": [
    "Case 2: $a = b^k$\n",
    "\n",
    "$T(n) = O(a^mm)$. Since $a = b^k$, $log_ba = k$ and $m = O(logn)$, thus\n",
    "\n",
    "$T(n) = O(n^k logn)$"
   ]
  },
  {
   "cell_type": "markdown",
   "metadata": {},
   "source": [
    "Case 3: $a < b^k$\n",
    "\n",
    "Let $F = b^k/a$, \n",
    "\n",
    "$T(n) = a^m*\\frac{F^{m+1}-1}{F-1} = O(a^m * F^m) = O((b^k)^m) = O((b^m)^k) = O(n^k)$"
   ]
  },
  {
   "cell_type": "markdown",
   "metadata": {},
   "source": [
    "Theorem\n",
    "\n",
    "The solution of the recueernce realtion $T(n) = aT(n/b) + cn^k$, where $a$ and $b$ are integer constants, $a \\geq 1, b \\geq 2$, and $c$ and $k$ are positive constants, is\n",
    "\n",
    "\\begin{equation}\n",
    "T(n) = \n",
    "\\begin{cases}\n",
    "    O(n^{log_ba}) & \\text{if $a > b^k$}\\\\\n",
    "    O(n^k logn) & \\text{if $a = b^k$} \\\\\n",
    "    O(n^k) & \\text{if $a < b^k$}\n",
    "\\end{cases}\n",
    "\\end{equation}"
   ]
  }
 ],
 "metadata": {
  "kernelspec": {
   "display_name": "Python [default]",
   "language": "python",
   "name": "python3"
  },
  "language_info": {
   "codemirror_mode": {
    "name": "ipython",
    "version": 3
   },
   "file_extension": ".py",
   "mimetype": "text/x-python",
   "name": "python",
   "nbconvert_exporter": "python",
   "pygments_lexer": "ipython3",
   "version": "3.6.3"
  }
 },
 "nbformat": 4,
 "nbformat_minor": 2
}
